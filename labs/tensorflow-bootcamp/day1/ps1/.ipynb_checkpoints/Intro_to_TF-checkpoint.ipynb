{
 "cells": [
  {
   "cell_type": "markdown",
   "metadata": {},
   "source": [
    "# Introduction to Tensorflow "
   ]
  },
  {
   "cell_type": "markdown",
   "metadata": {},
   "source": [
    "Here's a quick notebook to get you started with the basics of Tensorflow to go through as needed! "
   ]
  },
  {
   "cell_type": "code",
   "execution_count": 1,
   "metadata": {},
   "outputs": [
    {
     "name": "stderr",
     "output_type": "stream",
     "text": [
      "/Users/thchang/anaconda2/lib/python2.7/site-packages/h5py/__init__.py:34: FutureWarning: Conversion of the second argument of issubdtype from `float` to `np.floating` is deprecated. In future, it will be treated as `np.float64 == np.dtype(float).type`.\n",
      "  from ._conv import register_converters as _register_converters\n"
     ]
    }
   ],
   "source": [
    "from __future__ import print_function\n",
    "import tensorflow as tf\n",
    "import numpy as np\n",
    "import matplotlib.pyplot as plt"
   ]
  },
  {
   "cell_type": "code",
   "execution_count": 6,
   "metadata": {},
   "outputs": [
    {
     "name": "stdout",
     "output_type": "stream",
     "text": [
      "Hello World!\n"
     ]
    }
   ],
   "source": [
    "# Create TensorFlow object called tensor\n",
    "hello_constant = tf.constant('Hello World!')\n",
    "\n",
    "with tf.Session() as sess:\n",
    "    # Run the tf.constant operatin in the session\n",
    "    output = sess.run(hello_constant)\n",
    "    print(output)"
   ]
  },
  {
   "cell_type": "markdown",
   "metadata": {},
   "source": [
    "## What is a Tensor? \n",
    "In TensorFlow, data isn’t stored as integers, floats, or strings. These values are encapsulated in an object called a tensor. In the case of hello_constant = tf.constant('Hello World!'), hello_constant is a 0-dimensional string tensor, but tensors come in a variety of sizes as shown below:"
   ]
  },
  {
   "cell_type": "code",
   "execution_count": 10,
   "metadata": {},
   "outputs": [
    {
     "name": "stdout",
     "output_type": "stream",
     "text": [
      "[[1. 1.]\n",
      " [1. 1.]]\n"
     ]
    }
   ],
   "source": [
    "# A is a 0-dimensional int32 tensor\n",
    "A = tf.constant(1234)\n",
    "\n",
    "# B is a 1-dimensional int32 tensor\n",
    "B = tf.constant([123,456,789])\n",
    "\n",
    "# Create C a 2-dimensional int32 tensor \n",
    "C = tf.constant(1.0, shape=[2,2])\n",
    "\n",
    "with tf.Session() as sess:\n",
    "    output = sess.run(C)\n",
    "    print(output)"
   ]
  },
  {
   "cell_type": "markdown",
   "metadata": {},
   "source": [
    "The tensor returned by tf.constant() is called a constant tensor, because the value of the tensor never changes."
   ]
  },
  {
   "cell_type": "markdown",
   "metadata": {},
   "source": [
    "\n",
    "## Session\n",
    "TensorFlow’s api is built around the idea of a computational graph, a way of visualizing a mathematical process. \n",
    "A \"TensorFlow Session\" is an environment for running a graph. The session is in charge of allocating the operations to GPU(s) and/or CPU(s), including remote machines. Let’s see how you use it:"
   ]
  },
  {
   "cell_type": "code",
   "execution_count": null,
   "metadata": {
    "collapsed": true
   },
   "outputs": [],
   "source": [
    "with tf.Session() as sess:\n",
    "    output = sess.run(hello_constant)"
   ]
  },
  {
   "cell_type": "markdown",
   "metadata": {},
   "source": [
    "The code has already created the tensor, hello_constant, from the previous lines. The next step is to evaluate the tensor in a session.\n",
    "The code creates a session instance, sess, using tf.Session. The sess.run() function then evaluates the tensor and returns the results."
   ]
  },
  {
   "cell_type": "markdown",
   "metadata": {},
   "source": [
    "\n",
    "## TensorFlow Input\n",
    "In the last section, a tensor was passed into a session and it returned the result. What if we want to use a non-constant? This is where tf.placeholder() and feed_dict come into place. In this section, we'll go over the basics of feeding data into TensorFlow."
   ]
  },
  {
   "cell_type": "markdown",
   "metadata": {},
   "source": [
    "## tf.placeholder()\n",
    "\n",
    "Sadly you can’t just set x to your dataset and put it in TensorFlow, because over time you'll want your TensorFlow model to take in different datasets with different parameters. You need tf.placeholder()!\n",
    "tf.placeholder() returns a tensor that gets its value from data passed to the tf.session.run() function, allowing you to set the input right before the session runs."
   ]
  },
  {
   "cell_type": "markdown",
   "metadata": {},
   "source": [
    "## Session's feed_dict"
   ]
  },
  {
   "cell_type": "code",
   "execution_count": 17,
   "metadata": {},
   "outputs": [
    {
     "name": "stdout",
     "output_type": "stream",
     "text": [
      "Hello World\n"
     ]
    }
   ],
   "source": [
    "x1 = tf.placeholder(tf.string)\n",
    "\n",
    "with tf.Session() as sess:\n",
    "    output = sess.run(x1, feed_dict={x1: 'Hello World'})\n",
    "    print(output)"
   ]
  },
  {
   "cell_type": "markdown",
   "metadata": {},
   "source": [
    "Use the feed_dict parameter in tf.session.run() to set the placeholder tensor. The above example shows the tensor x being set to the string \"Hello, world\". It's also possible to set more than one tensor using feed_dict as shown below:"
   ]
  },
  {
   "cell_type": "code",
   "execution_count": 12,
   "metadata": {},
   "outputs": [
    {
     "name": "stdout",
     "output_type": "stream",
     "text": [
      "1\n",
      "5\n"
     ]
    }
   ],
   "source": [
    "phX = tf.placeholder(tf.string)\n",
    "phY = tf.placeholder(tf.int32)\n",
    "phZ = tf.placeholder(tf.float32)\n",
    "\n",
    "with tf.Session() as sess:\n",
    "    #Fix feed dict so that output_x and output_y work.\n",
    "    output_x = sess.run(phX, feed_dict={phX: \"1\", phY: 2, phZ: 3.0})\n",
    "    output_y = sess.run(phY, feed_dict={phX: \"4\", phY: 5, phZ: 6.0})\n",
    "    print(output_x)\n",
    "    print(output_y)"
   ]
  },
  {
   "cell_type": "markdown",
   "metadata": {},
   "source": [
    "Note: If the data passed to the feed_dict doesn’t match the tensor type and can’t be cast into the tensor type, you’ll get the error “ValueError: invalid literal for...”."
   ]
  },
  {
   "cell_type": "markdown",
   "metadata": {},
   "source": [
    "### Excercise"
   ]
  },
  {
   "cell_type": "code",
   "execution_count": null,
   "metadata": {
    "collapsed": true
   },
   "outputs": [],
   "source": [
    "import tensorflow as tf\n",
    "\n",
    "\n",
    "def run():\n",
    "    output = None\n",
    "    x = tf.placeholder(tf.int32)\n",
    "\n",
    "    with tf.Session() as sess:\n",
    "        # TODO: Feed the x tensor 123 and set the variable output\n",
    "        # ___ YOUR CODE HERE ____\n",
    "        \n",
    "       \n",
    "    return output\n",
    "\n",
    "run()"
   ]
  },
  {
   "cell_type": "markdown",
   "metadata": {},
   "source": [
    "## TensorFlow Math\n",
    "Getting the input is great, but now you need to use it. We're going to use basic math functions to get started that everyone knows and loves - add, subtract, multiply, and divide - with tensors. "
   ]
  },
  {
   "cell_type": "markdown",
   "metadata": {},
   "source": [
    "### Addition, Subraction and Multiplication"
   ]
  },
  {
   "cell_type": "code",
   "execution_count": null,
   "metadata": {
    "collapsed": true
   },
   "outputs": [],
   "source": [
    "x = tf.add(5, 2)  # 7\n",
    "x = tf.subtract(10, 4) # 6\n",
    "y = tf.multiply(2, 5)  # 10"
   ]
  },
  {
   "cell_type": "markdown",
   "metadata": {},
   "source": [
    "## tf.truncated_normal()"
   ]
  },
  {
   "cell_type": "markdown",
   "metadata": {},
   "source": [
    "The tf.truncated_normal() function returns a tensor with random values from a normal distribution whose magnitude is no more than 2 standard deviations from the mean.\n",
    "Since the weights are already helping prevent the model from getting stuck, you don't need to randomize the bias. Let's use the simplest solution, setting the bias to 0."
   ]
  },
  {
   "cell_type": "code",
   "execution_count": null,
   "metadata": {
    "collapsed": true
   },
   "outputs": [],
   "source": [
    "n_features = 120\n",
    "n_labels = 5\n",
    "weights = tf.Variable(tf.truncated_normal((n_features, n_labels)))"
   ]
  },
  {
   "cell_type": "markdown",
   "metadata": {},
   "source": [
    "### Converting Types\n",
    "It may be necessary to convert between types to make certain operators work together. For example, if you tried the following, it would fail with an exception:"
   ]
  },
  {
   "cell_type": "code",
   "execution_count": null,
   "metadata": {
    "collapsed": true
   },
   "outputs": [],
   "source": [
    "tf.subtract(tf.constant(2.0),tf.constant(1))  \n",
    "# Fails with ValueError: Tensor conversion requested dtype float32 for Tensor with dtype int32:"
   ]
  },
  {
   "cell_type": "markdown",
   "metadata": {},
   "source": [
    "The tf.Variable class creates a tensor with an initial value that can be modified, much like a normal Python variable. This tensor stores its state in the session, so you must initialize the state of the tensor manually. You'll use the tf.global_variables_initializer() function to initialize the state of all the Variable tensors:"
   ]
  },
  {
   "cell_type": "code",
   "execution_count": null,
   "metadata": {
    "collapsed": true
   },
   "outputs": [],
   "source": [
    "init = tf.global_variables_initializer()\n",
    "with tf.Session() as sess:\n",
    "    sess.run(init)"
   ]
  },
  {
   "cell_type": "markdown",
   "metadata": {},
   "source": [
    "The tf.global_variables_initializer() call returns an operation that will initialize all TensorFlow variables from the graph. You call the operation using a session to initialize all the variables as shown above. \n",
    "\n",
    "Using the tf.Variable class allows us to change the weights and bias, but an initial value needs to be chosen.\n",
    "Initializing the weights with random numbers from a normal distribution is good practice. Randomizing the weights helps the model from becoming stuck in the same place every time you train it. \n",
    "\n",
    "Similarly, choosing weights from a normal distribution prevents any one weight from overwhelming other weights. We'll use the tf.truncated_normal() function to generate random numbers from a normal distribution."
   ]
  },
  {
   "cell_type": "markdown",
   "metadata": {
    "collapsed": true
   },
   "source": [
    "### tf.zeros()"
   ]
  },
  {
   "cell_type": "code",
   "execution_count": null,
   "metadata": {
    "collapsed": true
   },
   "outputs": [],
   "source": [
    "n_labels = 5\n",
    "bias = tf.Variable(tf.zeros(n_labels))"
   ]
  },
  {
   "cell_type": "markdown",
   "metadata": {},
   "source": [
    "The tf.zeros() function returns a tensor with all zeros."
   ]
  },
  {
   "cell_type": "markdown",
   "metadata": {},
   "source": [
    "### tf.reduce_sum() \n",
    "`tf.reduce_sum()` takes an array of numbers and sums them together."
   ]
  },
  {
   "cell_type": "code",
   "execution_count": null,
   "metadata": {
    "collapsed": true
   },
   "outputs": [],
   "source": [
    "x = tf.reduce_sum([1, 2, 3, 4, 5])  # 15"
   ]
  },
  {
   "cell_type": "markdown",
   "metadata": {},
   "source": [
    "### tf.matmul()\n",
    "Matrix multiplication is managed through this method"
   ]
  },
  {
   "cell_type": "code",
   "execution_count": null,
   "metadata": {
    "collapsed": true
   },
   "outputs": [],
   "source": [
    "matrix1 = tf.constant([[3., 3.]])\n",
    "matrix2 = tf.constant([[2.],[2.]])\n",
    "\n",
    "product = tf.matmul(matrix1, matrix2)"
   ]
  },
  {
   "cell_type": "markdown",
   "metadata": {},
   "source": [
    "### tf.random_normal"
   ]
  },
  {
   "cell_type": "markdown",
   "metadata": {},
   "source": [
    "Use random_normal to create random values from a normal distribution. In this example, w is a variable which is of size 784*10 with random values with standard deviation 0.01."
   ]
  },
  {
   "cell_type": "code",
   "execution_count": null,
   "metadata": {
    "collapsed": true
   },
   "outputs": [],
   "source": [
    "w=tf.Variable(tf.random_normal([784, 10], stddev=0.01))"
   ]
  },
  {
   "cell_type": "markdown",
   "metadata": {},
   "source": [
    "### tf.argmax()"
   ]
  },
  {
   "cell_type": "code",
   "execution_count": 20,
   "metadata": {},
   "outputs": [
    {
     "name": "stdout",
     "output_type": "stream",
     "text": [
      "None\n",
      "[2 0]\n"
     ]
    }
   ],
   "source": [
    "a=[ [0.1, 0.2,  0.3  ],\n",
    "    [20,  2,       3   ]\n",
    "  ]\n",
    "b = tf.Variable(a,name='b')\n",
    "with tf.Session() as sess:\n",
    "    print(sess.run(tf.global_variables_initializer()))\n",
    "    print(sess.run(tf.argmax(b,1)))"
   ]
  },
  {
   "cell_type": "code",
   "execution_count": null,
   "metadata": {
    "collapsed": true
   },
   "outputs": [],
   "source": [
    "Gets you the maximum value from a tensor along the specified axis."
   ]
  },
  {
   "cell_type": "markdown",
   "metadata": {},
   "source": [
    "The returned value, 'product', represents the result of the matrix\n",
    "multiplication."
   ]
  },
  {
   "cell_type": "markdown",
   "metadata": {},
   "source": [
    "# Problems"
   ]
  },
  {
   "cell_type": "markdown",
   "metadata": {},
   "source": [
    "Q0. Create a variable w with an initial value of 1.0 and name weight. Then, print out the value of w."
   ]
  },
  {
   "cell_type": "code",
   "execution_count": 22,
   "metadata": {},
   "outputs": [
    {
     "name": "stdout",
     "output_type": "stream",
     "text": [
      "result=\n",
      "[[1 1 1]\n",
      " [1 1 1]]\n"
     ]
    }
   ],
   "source": [
    "# Create a tf variable w with an initial value of 1.0 and name \"weight\"\n",
    "# ___ YOUR CODE HERE ____\n",
    "weightVar = tf.ones(shape=[2,3], dtype=tf.int32)\n",
    "\n",
    "with tf.Session() as sess:\n",
    "    sess.run(tf.global_variables_initializer())\n",
    "    result = sess.run(weightVar)\n",
    "    print(\"result=\\n{}\".format(result))\n",
    "    # get and print out the value of w\n",
    "    # ___ YOUR CODE HERE ____\n",
    " "
   ]
  },
  {
   "cell_type": "markdown",
   "metadata": {},
   "source": [
    "Q1. Create a tensor with shape [2, 3] with all elements set to zero. It should pass the assertion"
   ]
  },
  {
   "cell_type": "code",
   "execution_count": 25,
   "metadata": {},
   "outputs": [
    {
     "name": "stdout",
     "output_type": "stream",
     "text": [
      "[[0. 0. 0.]\n",
      " [0. 0. 0.]]\n"
     ]
    }
   ],
   "source": [
    "with tf.Session() as sess:\n",
    "    #Change the line below \n",
    "    zeros = tf.zeros(shape=[2,3])\n",
    "    print(sess.run(zeros))\n",
    "    assert np.allclose(sess.run(zeros), np.zeros([2, 3]))"
   ]
  },
  {
   "cell_type": "markdown",
   "metadata": {},
   "source": [
    "Q2. Let X be a tensor of [[1,2,3], [4,5,6]]. \n",
    "Create a tensor of the same shape and dtype as X with all elements set to zero using tf.zeros_like() and converting the np array to a TF tensor using tf.convert_to_tensor"
   ]
  },
  {
   "cell_type": "code",
   "execution_count": 28,
   "metadata": {},
   "outputs": [
    {
     "name": "stdout",
     "output_type": "stream",
     "text": [
      "[[0. 0. 0.]\n",
      " [0. 0. 0.]]\n"
     ]
    }
   ],
   "source": [
    "with tf.Session() as sess:\n",
    "    _X = np.array([[1,2,3], [4,5,6]])\n",
    "    # Convert _X to a tf tensor\n",
    "    X = tf.convert_to_tensor(_X)\n",
    "\n",
    "    # Make a zeros matrixw with the same shape as X using TF methods \n",
    "    zeros = tf.zeros(X.shape) # \n",
    "    \n",
    "    print(sess.run(zeros))\n",
    "    assert np.allclose(sess.run(zeros), np.zeros_like(_X))"
   ]
  },
  {
   "cell_type": "markdown",
   "metadata": {},
   "source": [
    "Q3. Create a tensor of shape [2, 3] with all elements set to one."
   ]
  },
  {
   "cell_type": "code",
   "execution_count": 29,
   "metadata": {},
   "outputs": [
    {
     "name": "stdout",
     "output_type": "stream",
     "text": [
      "[[1. 1. 1.]\n",
      " [1. 1. 1.]]\n"
     ]
    }
   ],
   "source": [
    "with tf.Session() as sess:\n",
    "    #Fix the line below \n",
    "    ones = tf.ones(shape=[2,3])\n",
    "    print(sess.run(ones))\n",
    "    assert np.allclose(sess.run(ones), np.ones([2, 3]))"
   ]
  },
  {
   "cell_type": "markdown",
   "metadata": {},
   "source": [
    "Q4. Create a constant tensor of [[1, 3, 5], [4, 6, 8]], with dtype=float32"
   ]
  },
  {
   "cell_type": "code",
   "execution_count": 31,
   "metadata": {},
   "outputs": [
    {
     "name": "stdout",
     "output_type": "stream",
     "text": [
      "[[1. 3. 5.]\n",
      " [4. 6. 8.]]\n"
     ]
    }
   ],
   "source": [
    "with tf.Session() as sess:\n",
    "    # create a constant with values above and dtype float32\n",
    "    _X = np.array([[1,3,5], [4,6,8]])\n",
    "    out = tf.constant(_X, dtype=tf.float32) # Note how we can convert np to tf\n",
    "    print(sess.run(out))\n",
    "    # should pass if done correctly\n",
    "    assert np.allclose(sess.run(out), np.array([[1, 3, 5], [4, 6, 8]], dtype=np.float32))"
   ]
  },
  {
   "cell_type": "markdown",
   "metadata": {},
   "source": [
    "Q5. Create a 1-D tensor of 50 evenly spaced numberts between 5 and 10 (inclusive). *Hint: Look up the equivalent of np linspace for tf*"
   ]
  },
  {
   "cell_type": "code",
   "execution_count": 32,
   "metadata": {},
   "outputs": [
    {
     "name": "stdout",
     "output_type": "stream",
     "text": [
      "[ 5.          5.10204082  5.20408163  5.30612245  5.40816327  5.51020408\n",
      "  5.6122449   5.71428571  5.81632653  5.91836735  6.02040816  6.12244898\n",
      "  6.2244898   6.32653061  6.42857143  6.53061224  6.63265306  6.73469388\n",
      "  6.83673469  6.93877551  7.04081633  7.14285714  7.24489796  7.34693878\n",
      "  7.44897959  7.55102041  7.65306122  7.75510204  7.85714286  7.95918367\n",
      "  8.06122449  8.16326531  8.26530612  8.36734694  8.46938776  8.57142857\n",
      "  8.67346939  8.7755102   8.87755102  8.97959184  9.08163265  9.18367347\n",
      "  9.28571429  9.3877551   9.48979592  9.59183673  9.69387755  9.79591837\n",
      "  9.89795918 10.        ]\n"
     ]
    }
   ],
   "source": [
    "with tf.Session() as sess:\n",
    "    _X = np.linspace(5., 10., 50)\n",
    "    # Create a 1-D tensor of 50 evenly spaced numberts between 5 and 10 (inclusive)\n",
    "    out = tf.convert_to_tensor(_X)\n",
    "    print(sess.run(out))\n",
    "    assert np.allclose(sess.run(out), np.linspace(5., 10., 50))\n"
   ]
  },
  {
   "cell_type": "markdown",
   "metadata": {},
   "source": [
    "Q6. Create a random tensor of the shape [3, 2], with elements from a normal distribution of mean=0, standard deviation=2."
   ]
  },
  {
   "cell_type": "code",
   "execution_count": 34,
   "metadata": {},
   "outputs": [
    {
     "name": "stdout",
     "output_type": "stream",
     "text": [
      "[[-0.00374775 -0.00109917]\n",
      " [ 0.00636828  0.00793464]\n",
      " [ 0.00845925  0.00315573]]\n"
     ]
    }
   ],
   "source": [
    "with tf.Session() as sess:\n",
    "    X = tf.random_normal([3, 2], mean=0,  stddev=0.01)\n",
    "    print(sess.run(X))"
   ]
  },
  {
   "cell_type": "markdown",
   "metadata": {},
   "source": [
    "Q7. Randomly shuffle the data in matrix X using tf.random_shuffle()"
   ]
  },
  {
   "cell_type": "code",
   "execution_count": 35,
   "metadata": {},
   "outputs": [
    {
     "name": "stdout",
     "output_type": "stream",
     "text": [
      "[[1 2]\n",
      " [5 6]\n",
      " [3 4]]\n"
     ]
    }
   ],
   "source": [
    "with tf.Session() as sess:\n",
    "    _X = np.array([[1, 2], [3, 4], [5, 6]])\n",
    "    # convert X to a tf tensor\n",
    "    X = tf.convert_to_tensor(_X)\n",
    "    # randomly shuffle out\n",
    "    out = tf.random_shuffle(X)\n",
    "    print(sess.run(out))"
   ]
  },
  {
   "cell_type": "markdown",
   "metadata": {},
   "source": []
  },
  {
   "cell_type": "markdown",
   "metadata": {},
   "source": [
    "Q8. Let x and y be random 0-D tensors. Return x + y if x < y and x - y otherwise. Use tf.cond()"
   ]
  },
  {
   "cell_type": "code",
   "execution_count": null,
   "metadata": {
    "collapsed": true
   },
   "outputs": [],
   "source": [
    "with tf.Session() as sess:\n",
    "    # This is equalvant to the following.\n",
    "    _x = tf.random_uniform([], -1, 1)\n",
    "    _y = tf.random_uniform([], -1, 1)\n",
    "    # Use tf.cond to to return x + y if x < y and x - y otherwise\n",
    "    out = # ___ YOUR CODE HERE ____\n",
    "    print(sess.run(_x),sess.run(_y), sess.run(_out))\n",
    "    "
   ]
  },
  {
   "cell_type": "markdown",
   "metadata": {},
   "source": [
    "Q9. Apply relu, elu, and softplus to x. Then observe the plot\n",
    "\n",
    "The package tf.nn contains all of these methods. "
   ]
  },
  {
   "cell_type": "code",
   "execution_count": 36,
   "metadata": {
    "collapsed": true
   },
   "outputs": [],
   "source": [
    "_x = np.linspace(-10., 10., 1000)\n",
    "x = tf.convert_to_tensor(_x)"
   ]
  },
  {
   "cell_type": "code",
   "execution_count": 40,
   "metadata": {},
   "outputs": [
    {
     "data": {
      "image/png": "[encoded data removed]",
      "text/plain": [
       "<matplotlib.figure.Figure at 0x1815ed99d0>"
      ]
     },
     "metadata": {},
     "output_type": "display_data"
    }
   ],
   "source": [
    "# Set the following lines\n",
    "relu = tf.nn.relu(x) # ___ YOUR CODE HERE ____\n",
    "elu = tf.nn.elu(x) # ___ YOUR CODE HERE ____\n",
    "softplus = tf.nn.softmax(x) # ___ YOUR CODE HERE ____\n",
    "\n",
    "with tf.Session() as sess:\n",
    "    _relu, _elu, _softplus = sess.run([relu, elu, softplus])\n",
    "    #_relu, _softplus = sess.run([relu, softplus])\n",
    "    plt.plot(_x, _relu, label='relu')\n",
    "    plt.plot(_x, _elu, label='elu')\n",
    "    plt.plot(_x, _softplus, label='softplus')\n",
    "    plt.legend(bbox_to_anchor=(0.5, 1.0))\n",
    "    plt.show()"
   ]
  },
  {
   "cell_type": "markdown",
   "metadata": {},
   "source": [
    "Q2. Apply sigmoid and tanh to x using tf.nn.sigmoid() and tf.nn.tanh()"
   ]
  },
  {
   "cell_type": "code",
   "execution_count": null,
   "metadata": {
    "collapsed": true
   },
   "outputs": [],
   "source": [
    "_x = np.linspace(-10., 10., 1000)\n",
    "x = tf.convert_to_tensor(_x)"
   ]
  },
  {
   "cell_type": "code",
   "execution_count": 41,
   "metadata": {},
   "outputs": [
    {
     "data": {
      "image/png": "[encoded data removed]",
      "text/plain": [
       "<matplotlib.figure.Figure at 0x18160cafd0>"
      ]
     },
     "metadata": {},
     "output_type": "display_data"
    }
   ],
   "source": [
    "sigmoid = tf.nn.sigmoid(x) # ___ YOUR CODE HERE ____\n",
    "tanh = tf.nn.tanh(x) # ___ YOUR CODE HERE ____\n",
    "\n",
    "with tf.Session() as sess:\n",
    "    _sigmoid, _tanh = sess.run([sigmoid, tanh])\n",
    "    plt.plot(_x, _sigmoid, label='sigmoid')\n",
    "    plt.plot(_x, _tanh, label='tanh')\n",
    "    plt.legend(bbox_to_anchor=(0.5, 1.0))\n",
    "    plt.grid()\n",
    "    plt.show()"
   ]
  },
  {
   "cell_type": "markdown",
   "metadata": {},
   "source": [
    "Q3. Apply softmax to x. Assertion should pass if you did this correctly"
   ]
  },
  {
   "cell_type": "code",
   "execution_count": 42,
   "metadata": {},
   "outputs": [
    {
     "name": "stdout",
     "output_type": "stream",
     "text": [
      "[[8.9250901e-04 2.4260911e-03 1.7926522e-02 9.7875494e-01]\n",
      " [2.1440089e-03 1.5842201e-02 1.1705890e-01 8.6495483e-01]]\n"
     ]
    }
   ],
   "source": [
    "_x = np.array([[1, 2, 4, 8], [2, 4, 6, 8]], dtype=np.float32)\n",
    "x = tf.convert_to_tensor(_x)\n",
    "# Apply softmax to x and set tensor as out\n",
    "out = tf.nn.softmax(x) \n",
    "with tf.Session() as sess:\n",
    "    _out = sess.run(out)\n",
    "    print(_out)    \n",
    "    assert np.allclose(np.sum(_out, axis=-1), 1)"
   ]
  },
  {
   "cell_type": "markdown",
   "metadata": {},
   "source": [
    "Q4. Apply a fully connected layer to x with 2 outputs and then an sigmoid function. We provide the prepared contrib fully_connected layer"
   ]
  },
  {
   "cell_type": "code",
   "execution_count": 43,
   "metadata": {},
   "outputs": [
    {
     "name": "stdout",
     "output_type": "stream",
     "text": [
      "[[0.98620874 0.         0.76467705 0.         0.        ]\n",
      " [2.502172   0.         0.         0.         0.        ]\n",
      " [0.45188677 0.         1.1969373  0.         0.        ]\n",
      " [0.         0.96240574 0.2803382  1.1772891  0.3255896 ]\n",
      " [0.         1.9108136  1.9297531  1.0362576  0.        ]\n",
      " [0.         1.1696105  0.5254337  1.2198792  0.981763  ]\n",
      " [0.         0.42865086 1.3048766  1.1352862  0.09170938]\n",
      " [0.         0.         1.7104287  0.5010387  0.        ]]\n"
     ]
    }
   ],
   "source": [
    "x = tf.random_normal([8, 10])\n",
    "# replace ... with  the correct parameters. Shift+tab in jupyter notebooks reveal what the params are\n",
    "out = tf.contrib.layers.fully_connected(inputs=x, num_outputs=5) # ___ YOUR CODE HERE ____\n",
    "with tf.Session() as sess:\n",
    "    sess.run(tf.global_variables_initializer())\n",
    "    print(sess.run(out))"
   ]
  },
  {
   "cell_type": "code",
   "execution_count": null,
   "metadata": {
    "collapsed": true
   },
   "outputs": [],
   "source": []
  }
 ],
 "metadata": {
  "anaconda-cloud": {},
  "kernelspec": {
   "display_name": "Python 2",
   "language": "python",
   "name": "python2"
  },
  "language_info": {
   "codemirror_mode": {
    "name": "ipython",
    "version": 2
   },
   "file_extension": ".py",
   "mimetype": "text/x-python",
   "name": "python",
   "nbconvert_exporter": "python",
   "pygments_lexer": "ipython2",
   "version": "2.7.14"
  }
 },
 "nbformat": 4,
 "nbformat_minor": 1
}
