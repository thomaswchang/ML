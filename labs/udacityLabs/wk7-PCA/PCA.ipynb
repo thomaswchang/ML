{
 "cells": [
  {
   "cell_type": "markdown",
   "metadata": {},
   "source": [
    "# Connect Intensive - Machine Learning Nanodegree\n",
    "\n",
    "## Week 7. PCA Miniproject\n",
    "\n",
    "### Objectives    \n",
    "\n",
    "  - Perform Principal Component Analysis (PCA) on a large set of features to explain as much of the variance as possible in the data using a smaller set of features.\n",
    "  - Recognize differences between `train_test_split()` and `StratifiedShuffleSplit()` when creating training and testing sets.\n",
    "  - Introduce the `class_weight` parameter for `SVC()`, to see how correctly predicting targets from a smaller class size can be weighted more heavily.\n",
    "  - Visualize the eigenfaces (orthonormal basis of components) that result from PCA.\n",
    "  \n",
    "### Prerequisites\n",
    "  - [matplotlib](http://matplotlib.org/index.html)  \n",
    "  - [numpy](http://www.scipy.org/scipylib/download.html)  \n",
    "  - [pandas](http://pandas.pydata.org/getpandas.html)  \n",
    "  - [sklearn](http://scikit-learn.org/stable/install.html)  \n",
    "  \n",
    "\n",
    "  > This notebook builds upon [`pca/eigenfaces.py`](https://github.com/udacity/ud120-projects/blob/master/pca/eigenfaces.py) from [**Udacity ud120-projects repo**](https://github.com/udacity/ud120-projects). It derives from [an eigenfaces/SVM example in the sklearn documentation](http://scikit-learn.org/0.18/auto_examples/applications/face_recognition.html)."
   ]
  },
  {
   "cell_type": "markdown",
   "metadata": {},
   "source": [
    "## 1 | Get the Data\n",
    "\n",
    "The dataset for this mini-project comes from [\"Labeled Faces in the Wild\" (LFW)](http://vis-www.cs.umass.edu/lfw/), a database of more than 13,000 face photographs designed for studying the problem of unconstrained face recognition. We are going to use the **funneled** dataset, which comes from the following paper:\n",
    "\n",
    "> Gary B. Huang, Vidit Jain, and Erik Learned-Miller. [**Unsupervised Joint Alignment of Complex Images**](http://vis-www.cs.umass.edu/papers/iccv07alignment.pdf). *International Conference on Computer Vision (ICCV), 2007.*\n",
    "\n",
    "Section 2 of the paper describes the preprocessing steps of [congealing](http://vis-www.cs.umass.edu/congeal.html) and funneling to align images in the dataset.\n",
    "\n",
    "The original source of this PCA demo comes from the [scikit-learn documentation](http://scikit-learn.org/0.18/auto_examples/applications/face_recognition.html)."
   ]
  },
  {
   "cell_type": "code",
   "execution_count": 1,
   "metadata": {
    "collapsed": true
   },
   "outputs": [],
   "source": [
    "import numpy as np\n",
    "from time import time\n",
    "import logging\n",
    "import matplotlib.pyplot as plt\n",
    "%matplotlib inline\n",
    "\n",
    "from sklearn.model_selection import train_test_split\n",
    "from sklearn.model_selection import StratifiedShuffleSplit\n",
    "from sklearn.model_selection import GridSearchCV\n",
    "from sklearn.datasets import fetch_lfw_people\n",
    "from sklearn.metrics import classification_report\n",
    "from sklearn.metrics import confusion_matrix\n",
    "from sklearn.decomposition import PCA\n",
    "from sklearn.svm import SVC\n",
    "\n",
    "# Display progress logs on stdout\n",
    "# useful to monitor progress while downloading LFW data\n",
    "logging.basicConfig(level=logging.INFO, format='%(asctime)s %(message)s')"
   ]
  },
  {
   "cell_type": "markdown",
   "metadata": {},
   "source": [
    "**Run** the cell below to download the data using [the `sklearn` function `fetch_lfw_people()`](http://scikit-learn.org/stable/modules/generated/sklearn.datasets.fetch_lfw_people.html). The data is ~200MB, so the download may take a while. The data will be loaded into the dictionary `lfw_people`. The dictionary contains several items:\n",
    "  - `lfw_people.DESCR`: string -- a short description of the data dictionary.\n",
    "  - `lfw_people.data`: 2-D numpy array (`dtype=float32`) with shape `(n_samples, n_features)`\n",
    "    - Each entry in the array is a value ranging from 0.0 to 255.0, denoting the 8-bit [grayscale](https://en.wikipedia.org/wiki/Grayscale) value of each pixel.\n",
    "    - `n_samples`: the total number of images, the instances/inputs in the dataset.\n",
    "    - `n_features`: the number of pixels per image, the features of the dataset.\n",
    "  - `lfw_people.images`: 3-D numpy array (`dtype=float32`) with shape `(n_samples, height, width)`.\n",
    "    - `images` is just `data` reshaped, so that `height` $\\times$ `width` = `n_features`\n",
    "  - `lfw_people.target`: 1-D numpy array (`dtype=int64`) of length `n_samples`, the labels of each image\n",
    "  - `lfw_people.target_names`: 1-D numpy array of length `n_classes`\n",
    "  \n",
    ">**Note:** Sometimes [the pillow module](https://python-pillow.org/) (which is being used in this example) can cause trouble with this notebook. If you get an error related to the `fetch_lfw_people()` command, try the following:\n",
    "\n",
    ">``pip install --upgrade PILLOW``"
   ]
  },
  {
   "cell_type": "code",
   "execution_count": 2,
   "metadata": {
    "collapsed": false
   },
   "outputs": [
    {
     "name": "stderr",
     "output_type": "stream",
     "text": [
      "Downloading LFW metadata: https://ndownloader.figshare.com/files/5976012\n",
      "2018-02-04 11:33:52,641 Downloading LFW metadata: https://ndownloader.figshare.com/files/5976012\n",
      "Downloading LFW metadata: https://ndownloader.figshare.com/files/5976009\n",
      "2018-02-04 11:33:54,452 Downloading LFW metadata: https://ndownloader.figshare.com/files/5976009\n",
      "Downloading LFW metadata: https://ndownloader.figshare.com/files/5976006\n",
      "2018-02-04 11:33:55,893 Downloading LFW metadata: https://ndownloader.figshare.com/files/5976006\n",
      "Downloading LFW data (~200MB): https://ndownloader.figshare.com/files/5976015\n",
      "2018-02-04 11:33:57,873 Downloading LFW data (~200MB): https://ndownloader.figshare.com/files/5976015\n"
     ]
    }
   ],
   "source": [
    "# Download the data, if not already on disk, and load it as numpy arrays\n",
    "lfw_people = fetch_lfw_people(min_faces_per_person=70, resize=0.4)"
   ]
  },
  {
   "cell_type": "code",
   "execution_count": 4,
   "metadata": {
    "collapsed": false
   },
   "outputs": [
    {
     "data": {
      "text/plain": [
       "\"import pickle\\nwith open('lfw_people.pickle', 'rb') as handle:\\n    lfw_people2 = pickle.load(handle)\""
      ]
     },
     "execution_count": 4,
     "metadata": {},
     "output_type": "execute_result"
    }
   ],
   "source": [
    "# Or you can use the pickled file included in the folder with this notebook\n",
    "'''import pickle\n",
    "with open('lfw_people.pickle', 'rb') as handle:\n",
    "    lfw_people2 = pickle.load(handle)'''"
   ]
  },
  {
   "cell_type": "markdown",
   "metadata": {},
   "source": [
    ">**Note:** In the call to `fetch_lfw_people()`, the parameter `min_faces_per_person` is set to 70. This ensures that the extracted dataset will only retain pictures of people that have at least 70 different pictures. The `resize` parameter of 0.4 scales each image to 40% of its original size, so that the dataset takes up less memory."
   ]
  },
  {
   "cell_type": "code",
   "execution_count": 5,
   "metadata": {
    "collapsed": false
   },
   "outputs": [
    {
     "name": "stdout",
     "output_type": "stream",
     "text": [
      "0: Ariel Sharon\n",
      "1: Colin Powell\n",
      "2: Donald Rumsfeld\n",
      "3: George W Bush\n",
      "4: Gerhard Schroeder\n",
      "5: Hugo Chavez\n",
      "6: Tony Blair\n"
     ]
    }
   ],
   "source": [
    "# Print the indices and names of the people in the lfw_people dataset\n",
    "for idx, name in enumerate(lfw_people.target_names):\n",
    "    print \"{}: {}\".format(idx, name)"
   ]
  },
  {
   "cell_type": "markdown",
   "metadata": {},
   "source": [
    "**Run** the cell below to extract the shape information (number of samples, number of features, image height and width) from `lfw_people.images` and `lfw_people.data`. You will see a summary of the dataset: the numbers of samples (images), features (pixels), and classes (targets). You will also see the number of images per target in the dataset."
   ]
  },
  {
   "cell_type": "code",
   "execution_count": 13,
   "metadata": {
    "collapsed": false
   },
   "outputs": [
    {
     "name": "stdout",
     "output_type": "stream",
     "text": [
      "Total dataset size:\n",
      "  n_samples  : 1288\n",
      "  n_features : 1850\n",
      "  n_classes  :    7\n",
      "\n",
      "Images per Target:\n",
      "  Ariel Sharon      :  77 images\n",
      "  Colin Powell      : 236 images\n",
      "  Donald Rumsfeld   : 121 images\n",
      "  George W Bush     : 530 images\n",
      "  Gerhard Schroeder : 109 images\n",
      "  Hugo Chavez       :  71 images\n",
      "  Tony Blair        : 144 images\n"
     ]
    }
   ],
   "source": [
    "# introspect the images arrays to find the shapes (for plotting)\n",
    "n_samples, h, w = lfw_people.images.shape\n",
    "\n",
    "# for machine learning we use the 2-D data directly\n",
    "# relative pixel positions info will be ignored by this model\n",
    "X = lfw_people.data\n",
    "n_features = X.shape[1]\n",
    "\n",
    "# the label to predict is the target ID of the person\n",
    "y = lfw_people.target\n",
    "target_names = lfw_people.target_names\n",
    "n_classes = target_names.shape[0]\n",
    "\n",
    "# print a summary of the total dataset size\n",
    "print 'Total dataset size:'\n",
    "print '  n_samples  : {:>4}'.format(n_samples)\n",
    "print '  n_features : {:>4}'.format(n_features)\n",
    "print '  n_classes  : {:>4}\\n'.format(n_classes)\n",
    "\n",
    "# print the number of images for each target in the dataset\n",
    "print 'Images per Target:'\n",
    "for idx, name in enumerate(lfw_people.target_names):\n",
    "    print '  {:<18}: {:>3} images'.format(name, np.sum(lfw_people.target == idx))"
   ]
  },
  {
   "cell_type": "markdown",
   "metadata": {},
   "source": [
    "## 2 | Split the Data"
   ]
  },
  {
   "cell_type": "markdown",
   "metadata": {},
   "source": [
    "**Run** the cells below to split the data into training and test (validation) sets using [`train_test_split()`](http://scikit-learn.org/stable/modules/generated/sklearn.model_selection.train_test_split.html). As a comparison, we also split the data using `StratifiedShuffleSplit()` and check the percentages of each target in the dataset."
   ]
  },
  {
   "cell_type": "code",
   "execution_count": 14,
   "metadata": {
    "collapsed": false
   },
   "outputs": [
    {
     "name": "stdout",
     "output_type": "stream",
     "text": [
      "train_test_split() results:\n",
      "                       train    test\n",
      "  Ariel Sharon      :    6.4%    4.3%\n",
      "  Colin Powell      :   18.3%   18.2%\n",
      "  Donald Rumsfeld   :    9.6%    8.5%\n",
      "  George W Bush     :   39.9%   46.1%\n",
      "  Gerhard Schroeder :    8.7%    7.4%\n",
      "  Hugo Chavez       :    5.6%    5.0%\n",
      "  Tony Blair        :   11.4%   10.5%\n"
     ]
    }
   ],
   "source": [
    "# Split into a training and testing set using train_test_split\n",
    "X_train, X_test, y_train, y_test = train_test_split(X, y, test_size=0.2, random_state=42)\n",
    "\n",
    "# Summarize the proportions of each label in the training and testing sets\n",
    "print 'train_test_split() results:'\n",
    "print '{:>28}{:>8}'.format('train', 'test')\n",
    "for idx, name in enumerate(lfw_people.target_names):\n",
    "    print '  {:<18}: {:6.1f}% {:6.1f}%'.format(name,\\\n",
    "                  np.sum(y_train == idx) * 100.0 / len(y_train),\\\n",
    "                  np.sum(y_test == idx) * 100.0 / len(y_test))"
   ]
  },
  {
   "cell_type": "code",
   "execution_count": 15,
   "metadata": {
    "collapsed": false
   },
   "outputs": [
    {
     "name": "stdout",
     "output_type": "stream",
     "text": [
      "\n",
      "StratifiedShuffleSplit() comparison:\n",
      "                       train    test\n",
      "  Ariel Sharon      :    5.9%    6.2%\n",
      "  Colin Powell      :   18.3%   18.2%\n",
      "  Donald Rumsfeld   :    9.4%    9.3%\n",
      "  George W Bush     :   41.2%   41.1%\n",
      "  Gerhard Schroeder :    8.4%    8.5%\n",
      "  Hugo Chavez       :    5.5%    5.4%\n",
      "  Tony Blair        :   11.2%   11.2%\n"
     ]
    }
   ],
   "source": [
    "# Compare with StratifiedShuffleSplit()\n",
    "sss = StratifiedShuffleSplit(n_splits=2, test_size=0.2, random_state=42)\n",
    "for train_index, test_index in sss.split(X, y):\n",
    "    X_train_s, X_test_s = X[train_index], X[test_index]\n",
    "    y_train_s, y_test_s = y[train_index], y[test_index]\n",
    "\n",
    "# Summarize the proportions of each label in the training and testing sets\n",
    "print '\\nStratifiedShuffleSplit() comparison:'\n",
    "print '{:>28}{:>8}'.format('train', 'test')\n",
    "for idx, name in enumerate(lfw_people.target_names):\n",
    "    print '  {:<18}: {:6.1f}% {:6.1f}%'.format(name,\\\n",
    "                  np.sum(y_train_s == idx) * 100.0 / len(y_train_s),\\\n",
    "                  np.sum(y_test_s == idx) * 100.0 / len(y_test_s))"
   ]
  },
  {
   "cell_type": "markdown",
   "metadata": {},
   "source": [
    "#### QUESTION: \n",
    "What is the difference between `train_test_split()` and `StratifiedShuffleSplit()`?"
   ]
  },
  {
   "cell_type": "markdown",
   "metadata": {},
   "source": [
    "## 3 | Principal Component Analysis\n",
    "\n",
    "The goal of [Principal Component Analysis (PCA)](https://en.wikipedia.org/wiki/Principal_component_analysis) is to describe the maximal amount of variance in a dataset by the fewest number of composite features. \n",
    "\n",
    "**Run** the cell below to perform [Principal Component Analysis with `sklearn`](http://scikit-learn.org/stable/modules/generated/sklearn.decomposition.PCA.html) on the training set of images to find the *eigenfaces*, or the orthonormal basis resulting from PCA.\n",
    "\n",
    ">**Note:** There's a little background on [Singular Value Decomposition (SVD)](https://en.wikipedia.org/wiki/Singular_value_decomposition) and [Randomized SVD](https://research.facebook.com/blog/fast-randomized-svd/) that may be useful or interesting to read here... but it's not necessary to fully understand SVD to appreciate the results of PCA."
   ]
  },
  {
   "cell_type": "code",
   "execution_count": 47,
   "metadata": {
    "collapsed": true
   },
   "outputs": [],
   "source": [
    "from sklearn.decomposition import PCA\n",
    "from time import time\n",
    "\n",
    "# Method reduces the input feature dimension via PCA, which maximizes capturing the variance in the data per principal component analysis iteration\n",
    "# Example usage: reduceFeatureDimensionViaPCA(X_train, numComponents=150, originalFeatureHeight=h, originalFeatureWidth=w)\n",
    "# http://localhost:8888/notebooks/Udacity_connect/wk7/PCA-Solutions.ipynb\n",
    "def reduceFeatureDimensionViaPCA(features, numComponents, originalFeatureHeight, originalFeatureWidth):\n",
    "    print 'Extracting the top {} eigenfaces from {} faces'.format(numComponents, features.shape[0])\n",
    "    t0 = time() # track time\n",
    "    pca = PCA(n_components=numComponents, svd_solver='randomized', whiten=True).fit(features)\n",
    "    print 'done in {:0.3f}s'.format(time() - t0)\n",
    "\n",
    "    # Reshape the PCA components based on the image dimensions\n",
    "    # Use this if you need the ORIGINAL coordinates\n",
    "    featuresInOriginalDimensions = pca.components_.reshape((numComponents, originalFeatureHeight, originalFeatureWidth))\n",
    "\n",
    "    print 'Projecting the input data on the eigenfaces orthonormal basis'\n",
    "    t0 = time()\n",
    "    featuresPCA = pca.transform(features)\n",
    "    print 'done in {:0.3f}s'.format(time() - t0)\n",
    "    \n",
    "    # print the explained variance\n",
    "    topNComponents = 5\n",
    "    for idx, var in enumerate(pca.explained_variance_ratio_[:topNComponents]):\n",
    "        print 'Eigenface {} explains {:5.2f}% of the variance.'.format(idx+1, var*100.0)\n",
    "    print '\\nIn total, the first {} eigenfaces explain {:5.2f}% of the variance.'\\\n",
    "          .format(len(pca.explained_variance_ratio_),\\\n",
    "                  100.0*np.sum(pca.explained_variance_ratio_))\n",
    "    \n",
    "    # plot cumulative explained variance as a function of n_components\n",
    "    plt.figure(figsize=(8, 6))\n",
    "    var1 = np.cumsum(np.round(pca.explained_variance_ratio_, decimals=4)*100) # Cumulative Variance explains\n",
    "    plt.plot(var1, color='b')\n",
    "    plt.xlabel('n_components')\n",
    "    plt.ylabel('Cumulative explained variance (%)')\n",
    "    \n",
    "    return (featuresPCA, featuresInOriginalDimensions)"
   ]
  },
  {
   "cell_type": "code",
   "execution_count": 48,
   "metadata": {
    "collapsed": false
   },
   "outputs": [
    {
     "name": "stdout",
     "output_type": "stream",
     "text": [
      "Extracting the top 150 eigenfaces from 1030 faces\n",
      "done in 0.073s\n",
      "Projecting the input data on the eigenfaces orthonormal basis\n",
      "done in 0.009s\n",
      "Eigenface 1 explains 19.20% of the variance.\n",
      "Eigenface 2 explains 15.22% of the variance.\n",
      "Eigenface 3 explains  7.02% of the variance.\n",
      "Eigenface 4 explains  6.00% of the variance.\n",
      "Eigenface 5 explains  5.16% of the variance.\n",
      "\n",
      "In total, the first 150 eigenfaces explain 95.58% of the variance.\n"
     ]
    },
    {
     "data": {
      "text/plain": [
       "(array([[ 1.7540952 ,  0.23506081, -0.10812695, ..., -0.26618665,\n",
       "         -0.18488838, -0.19057679],\n",
       "        [-0.6259135 , -0.7611503 , -0.16541447, ..., -1.71524119,\n",
       "          0.04985732,  1.19060004],\n",
       "        [ 0.27727327, -0.55766165,  0.12180167, ..., -0.18142284,\n",
       "         -2.26159978, -3.45686054],\n",
       "        ..., \n",
       "        [-0.79734737,  0.00844244, -0.15899754, ..., -0.08918159,\n",
       "         -0.17870253, -0.8902505 ],\n",
       "        [-0.33815438,  0.82682067, -0.15224846, ...,  0.3485058 ,\n",
       "         -0.22138952,  0.06354009],\n",
       "        [-1.31634855, -1.18231809,  0.18451415, ..., -1.94717121,\n",
       "          0.91815013, -1.32756364]], dtype=float32),\n",
       " array([[[-0.00853156, -0.00910909, -0.01078223, ..., -0.00996991,\n",
       "          -0.00923713, -0.00946723],\n",
       "         [-0.0089271 , -0.00997673, -0.01237094, ..., -0.01046008,\n",
       "          -0.00934901, -0.00995054],\n",
       "         [-0.00994833, -0.01152684, -0.01437575, ..., -0.01167671,\n",
       "          -0.00990721, -0.01008656],\n",
       "         ..., \n",
       "         [-0.00550558, -0.00592236, -0.00867032, ..., -0.01293833,\n",
       "          -0.01135473, -0.01045091],\n",
       "         [-0.00719998, -0.00769333, -0.00905679, ..., -0.01257157,\n",
       "          -0.01060182, -0.01002908],\n",
       "         [-0.00841062, -0.00884005, -0.00959511, ..., -0.01153736,\n",
       "          -0.01034919, -0.00978063]],\n",
       " \n",
       "        [[ 0.02221032,  0.02080316,  0.02214736, ..., -0.0216009 ,\n",
       "          -0.02238861, -0.02226281],\n",
       "         [ 0.02201226,  0.02139191,  0.0240825 , ..., -0.02210178,\n",
       "          -0.0229394 , -0.02274287],\n",
       "         [ 0.02245023,  0.02281539,  0.02611649, ..., -0.0229343 ,\n",
       "          -0.02351383, -0.02379631],\n",
       "         ..., \n",
       "         [ 0.03246908,  0.03621061,  0.03862474, ..., -0.04519081,\n",
       "          -0.0437463 , -0.04061732],\n",
       "         [ 0.03177192,  0.03644206,  0.03896534, ..., -0.04506226,\n",
       "          -0.04299601, -0.04100542],\n",
       "         [ 0.03124982,  0.03560696,  0.03904049, ..., -0.04403545,\n",
       "          -0.04320161, -0.04210319]],\n",
       " \n",
       "        [[ 0.02392116,  0.02259591,  0.021651  , ...,  0.0275404 ,\n",
       "           0.02985353,  0.03224653],\n",
       "         [ 0.02368902,  0.02272196,  0.02117061, ...,  0.02654637,\n",
       "           0.02899772,  0.03108606],\n",
       "         [ 0.02330244,  0.02206063,  0.02043813, ...,  0.02554113,\n",
       "           0.02777756,  0.02960224],\n",
       "         ..., \n",
       "         [ 0.06831273,  0.07263971,  0.07832791, ...,  0.0581318 ,\n",
       "           0.05504938,  0.051306  ],\n",
       "         [ 0.06098011,  0.06606551,  0.0730131 , ...,  0.05753522,\n",
       "           0.05256695,  0.04786737],\n",
       "         [ 0.0552022 ,  0.06060323,  0.06687413, ...,  0.05582057,\n",
       "           0.04924017,  0.04581976]],\n",
       " \n",
       "        ..., \n",
       "        [[ 0.04685939,  0.0002656 , -0.042996  , ...,  0.00035677,\n",
       "           0.02441969,  0.04217583],\n",
       "         [ 0.039308  , -0.02772831, -0.03843804, ..., -0.00047721,\n",
       "           0.02567956,  0.04669409],\n",
       "         [ 0.02498825, -0.03304045, -0.01120756, ..., -0.01093607,\n",
       "           0.00748536,  0.03320396],\n",
       "         ..., \n",
       "         [ 0.00978516, -0.01644663,  0.00677895, ..., -0.00860069,\n",
       "           0.01602877,  0.00793321],\n",
       "         [-0.00528811, -0.02503248,  0.00387485, ...,  0.01534584,\n",
       "           0.03516147,  0.00518965],\n",
       "         [ 0.00748253, -0.02391369,  0.00109727, ...,  0.03055769,\n",
       "           0.03320906,  0.00755697]],\n",
       " \n",
       "        [[ 0.05556687,  0.05396494,  0.03182706, ..., -0.02986798,\n",
       "          -0.01650521,  0.01759959],\n",
       "         [ 0.03046456,  0.01770326, -0.00155501, ..., -0.03527659,\n",
       "          -0.02569312,  0.00869862],\n",
       "         [ 0.0033049 , -0.02036572, -0.02989491, ..., -0.03870631,\n",
       "          -0.02576944,  0.01675367],\n",
       "         ..., \n",
       "         [-0.01676167,  0.01463261,  0.00572776, ..., -0.04281196,\n",
       "          -0.06083597, -0.05055168],\n",
       "         [-0.02347383,  0.00404459,  0.02544884, ...,  0.00018291,\n",
       "          -0.01096187, -0.01431833],\n",
       "         [-0.04090345, -0.002586  ,  0.02404171, ...,  0.06273343,\n",
       "           0.04984095,  0.02873159]],\n",
       " \n",
       "        [[-0.06914095, -0.00327456,  0.0377277 , ..., -0.0826676 ,\n",
       "          -0.02334978,  0.01209078],\n",
       "         [-0.06003193,  0.01756221,  0.05549254, ..., -0.06281947,\n",
       "          -0.00961387,  0.03541221],\n",
       "         [-0.03182251,  0.03618384,  0.05369215, ..., -0.02879501,\n",
       "           0.00477003,  0.05171292],\n",
       "         ..., \n",
       "         [-0.0093583 , -0.03282682, -0.02881752, ...,  0.01308942,\n",
       "          -0.01936162,  0.03132388],\n",
       "         [ 0.03058981, -0.0112061 , -0.02627266, ..., -0.00671644,\n",
       "          -0.00428204,  0.03859966],\n",
       "         [ 0.06021038,  0.01555534, -0.01435176, ..., -0.02234468,\n",
       "          -0.01423193, -0.00725702]]], dtype=float32))"
      ]
     },
     "execution_count": 48,
     "metadata": {},
     "output_type": "execute_result"
    },
    {
     "data": {
      "image/png": "[encoded data removed]",
      "text/plain": [
       "<matplotlib.figure.Figure at 0x1a166af510>"
      ]
     },
     "metadata": {},
     "output_type": "display_data"
    }
   ],
   "source": [
    "reduceFeatureDimensionViaPCA(X_train, numComponents=150, originalFeatureHeight=h, originalFeatureWidth=w)"
   ]
  },
  {
   "cell_type": "code",
   "execution_count": 17,
   "metadata": {
    "collapsed": false
   },
   "outputs": [
    {
     "name": "stdout",
     "output_type": "stream",
     "text": [
      "Extracting the top 150 eigenfaces from 1030 faces\n",
      "done in 0.074s\n",
      "Projecting the input data on the eigenfaces orthonormal basis\n",
      "done in 0.009s\n"
     ]
    }
   ],
   "source": [
    "# Compute a PCA (eigenfaces) on the face dataset\n",
    "\n",
    "# number of components\n",
    "n_components = 150\n",
    "\n",
    "# perform PCA on the training set\n",
    "print 'Extracting the top {} eigenfaces from {} faces'.format(n_components, X_train.shape[0])\n",
    "t0 = time() # track time\n",
    "pca = PCA(n_components=n_components, svd_solver='randomized', whiten=True).fit(X_train)\n",
    "print 'done in {:0.3f}s'.format(time() - t0)\n",
    "\n",
    "# Reshape the PCA components based on the image dimensions\n",
    "eigenfaces = pca.components_.reshape((n_components, h, w))\n",
    "\n",
    "# Project input data \n",
    "print 'Projecting the input data on the eigenfaces orthonormal basis'\n",
    "t0 = time()\n",
    "X_train_pca = pca.transform(X_train)\n",
    "X_test_pca = pca.transform(X_test)\n",
    "print 'done in {:0.3f}s'.format(time() - t0)"
   ]
  },
  {
   "cell_type": "markdown",
   "metadata": {},
   "source": [
    "Now that we've conducted PCA on the training set, we can see how much of the variance in the dataset is explained by each eigenface (or each component of the orthonormal basis). The components are ordered by ratio of explained variance in descending order, and after conducting PCA this information is stored in the attribute `pca.explained_variance_ratio_`. **Run** the cell below to print the explained variance percentage from the first five eigenfaces, and the total explained variance percentage of all 150 eigenfaces."
   ]
  },
  {
   "cell_type": "code",
   "execution_count": 18,
   "metadata": {
    "collapsed": false
   },
   "outputs": [
    {
     "name": "stdout",
     "output_type": "stream",
     "text": [
      "Eigenface 1 explains 19.20% of the variance.\n",
      "Eigenface 2 explains 15.22% of the variance.\n",
      "Eigenface 3 explains  7.02% of the variance.\n",
      "Eigenface 4 explains  6.00% of the variance.\n",
      "Eigenface 5 explains  5.16% of the variance.\n",
      "\n",
      "In total, the first 150 eigenfaces explain 95.58% of the variance.\n"
     ]
    }
   ],
   "source": [
    "# print the explained variance\n",
    "for idx, var in enumerate(pca.explained_variance_ratio_[:5]):\n",
    "    print 'Eigenface {} explains {:5.2f}% of the variance.'.format(idx+1, var*100.0)\n",
    "    \n",
    "print '\\nIn total, the first {} eigenfaces explain {:5.2f}% of the variance.'\\\n",
    "      .format(len(pca.explained_variance_ratio_),\\\n",
    "              100.0*np.sum(pca.explained_variance_ratio_))"
   ]
  },
  {
   "cell_type": "markdown",
   "metadata": {},
   "source": [
    "The first 150 components account for over 90% of the variance!. This leads us to believe that using these 150 components, we would recover most of the essential characteristics of the data. We can also plot the cumulative explained variance as a function of n_components. **Run** the cell below to find out.  "
   ]
  },
  {
   "cell_type": "code",
   "execution_count": 19,
   "metadata": {
    "collapsed": false
   },
   "outputs": [
    {
     "data": {
      "text/plain": [
       "<matplotlib.text.Text at 0x1a164e16d0>"
      ]
     },
     "execution_count": 19,
     "metadata": {},
     "output_type": "execute_result"
    },
    {
     "data": {
      "image/png": "[encoded data removed]",
      "text/plain": [
       "<matplotlib.figure.Figure at 0x1a172ed850>"
      ]
     },
     "metadata": {},
     "output_type": "display_data"
    }
   ],
   "source": [
    "# plot cumulative explained variance as a function of n_components\n",
    "plt.figure(figsize=(8, 6))\n",
    "var1 = np.cumsum(np.round(pca.explained_variance_ratio_, decimals=4)*100) # Cumulative Variance explains\n",
    "plt.plot(var1, color='b')\n",
    "plt.xlabel('n_components')\n",
    "plt.ylabel('Cumulative explained variance (%)')"
   ]
  },
  {
   "cell_type": "markdown",
   "metadata": {},
   "source": [
    "Now let's train a Support Vector Machine classifier. As we can see, the dataset has class imbalance problem. One way of dealing with class imbalance is to adjust the `class_weight` parameter in `SVC()`, so that the model score improves by different amounts depending on the class of the that targets are accurately classified. For a more detailed explanation of the `class_weight` parameter, you can read the [`SVC()` documentation](http://scikit-learn.org/stable/modules/generated/sklearn.svm.SVC.html), or check out this [stackoverflow post](http://stackoverflow.com/questions/30972029/how-does-the-class-weight-parameter-in-scikit-learn-work)."
   ]
  },
  {
   "cell_type": "code",
   "execution_count": 27,
   "metadata": {
    "collapsed": false
   },
   "outputs": [
    {
     "name": "stdout",
     "output_type": "stream",
     "text": [
      "Target Name            Weight  Count \n",
      "  Ariel Sharon      :   2.79     66\n",
      "  Colin Powell      :   0.97    189\n",
      "  Donald Rumsfeld   :   1.86     99\n",
      "  George W Bush     :   0.45    411\n",
      "  Gerhard Schroeder :   2.04     90\n",
      "  Hugo Chavez       :   3.17     58\n",
      "  Tony Blair        :   1.57    117\n"
     ]
    }
   ],
   "source": [
    "weights = n_samples*1.0 / (n_classes * np.bincount(y_train))\n",
    "print '{:<23}{:<8}{:<6}'.format('Target Name', 'Weight', 'Count')\n",
    "for idx, name in enumerate(lfw_people.target_names):\n",
    "    print '  {:<18}: {:6.2f} {:>6}'.format(name, weights[idx], np.sum(y_train == idx))"
   ]
  },
  {
   "cell_type": "markdown",
   "metadata": {},
   "source": [
    "As you can see from the above, rarer classes or targets are weighted more heavily, i.e., it's more important for the classifier to get those targets correct. Now that we understand how the `class_weight` parameter adds weight to the rarer classes, we can use [`GridSearchCV()`](http://scikit-learn.org/stable/modules/generated/sklearn.model_selection.GridSearchCV.html) to find the optimal parameters for a SVM classifier. Here, we're using the radial basis function (RBF) kernel, and we're tuning the parameters `C` (\"hard-margin\" SVM when `C` is large vs. \"soft-margin\" SVM when `C` is small) and `gamma` (data points have a long-ranged influence when `gamma` is small, or a short-ranged influence when `gamma` is large). \n",
    "\n",
    "**Run** the cell below to find the optimal values for the `C` and `gamma` parameters in the `SVC()` classifier,  using the eigenfaces (`X_train_pca`) as the features."
   ]
  },
  {
   "cell_type": "code",
   "execution_count": 28,
   "metadata": {
    "collapsed": false
   },
   "outputs": [
    {
     "name": "stdout",
     "output_type": "stream",
     "text": [
      "Fitting the classifier to the training set\n",
      "done in 149.345s\n",
      "Best parameters set found on development set:\n",
      "\n",
      "{'C': 100.0, 'gamma': 0.0001}\n",
      "\n",
      "Grid scores:\n",
      "\n",
      "0.083 (+/-0.036) for {'C': 0.01, 'gamma': 0.0001}\n",
      "0.083 (+/-0.036) for {'C': 0.01, 'gamma': 0.001}\n",
      "0.083 (+/-0.036) for {'C': 0.01, 'gamma': 0.01}\n",
      "0.083 (+/-0.036) for {'C': 0.01, 'gamma': 0.1}\n",
      "0.083 (+/-0.036) for {'C': 0.01, 'gamma': 1}\n",
      "0.083 (+/-0.036) for {'C': 0.01, 'gamma': 10}\n",
      "0.083 (+/-0.036) for {'C': 0.01, 'gamma': 100}\n",
      "0.083 (+/-0.036) for {'C': 0.1, 'gamma': 0.0001}\n",
      "0.083 (+/-0.036) for {'C': 0.1, 'gamma': 0.001}\n",
      "0.096 (+/-0.000) for {'C': 0.1, 'gamma': 0.01}\n",
      "0.083 (+/-0.036) for {'C': 0.1, 'gamma': 0.1}\n",
      "0.083 (+/-0.036) for {'C': 0.1, 'gamma': 1}\n",
      "0.083 (+/-0.036) for {'C': 0.1, 'gamma': 10}\n",
      "0.083 (+/-0.036) for {'C': 0.1, 'gamma': 100}\n",
      "0.125 (+/-0.082) for {'C': 1, 'gamma': 0.0001}\n",
      "0.432 (+/-0.048) for {'C': 1, 'gamma': 0.001}\n",
      "0.399 (+/-0.001) for {'C': 1, 'gamma': 0.01}\n",
      "0.399 (+/-0.001) for {'C': 1, 'gamma': 0.1}\n",
      "0.399 (+/-0.001) for {'C': 1, 'gamma': 1}\n",
      "0.399 (+/-0.001) for {'C': 1, 'gamma': 10}\n",
      "0.399 (+/-0.001) for {'C': 1, 'gamma': 100}\n",
      "0.556 (+/-0.037) for {'C': 10.0, 'gamma': 0.0001}\n",
      "0.470 (+/-0.027) for {'C': 10.0, 'gamma': 0.001}\n",
      "0.399 (+/-0.001) for {'C': 10.0, 'gamma': 0.01}\n",
      "0.399 (+/-0.001) for {'C': 10.0, 'gamma': 0.1}\n",
      "0.399 (+/-0.001) for {'C': 10.0, 'gamma': 1}\n",
      "0.399 (+/-0.001) for {'C': 10.0, 'gamma': 10}\n",
      "0.399 (+/-0.001) for {'C': 10.0, 'gamma': 100}\n",
      "0.562 (+/-0.016) for {'C': 100.0, 'gamma': 0.0001}\n",
      "0.470 (+/-0.027) for {'C': 100.0, 'gamma': 0.001}\n",
      "0.399 (+/-0.001) for {'C': 100.0, 'gamma': 0.01}\n",
      "0.399 (+/-0.001) for {'C': 100.0, 'gamma': 0.1}\n",
      "0.399 (+/-0.001) for {'C': 100.0, 'gamma': 1}\n",
      "0.399 (+/-0.001) for {'C': 100.0, 'gamma': 10}\n",
      "0.399 (+/-0.001) for {'C': 100.0, 'gamma': 100}\n",
      "0.562 (+/-0.016) for {'C': 1000.0, 'gamma': 0.0001}\n",
      "0.470 (+/-0.027) for {'C': 1000.0, 'gamma': 0.001}\n",
      "0.399 (+/-0.001) for {'C': 1000.0, 'gamma': 0.01}\n",
      "0.399 (+/-0.001) for {'C': 1000.0, 'gamma': 0.1}\n",
      "0.399 (+/-0.001) for {'C': 1000.0, 'gamma': 1}\n",
      "0.399 (+/-0.001) for {'C': 1000.0, 'gamma': 10}\n",
      "0.399 (+/-0.001) for {'C': 1000.0, 'gamma': 100}\n",
      "0.562 (+/-0.016) for {'C': 5000.0, 'gamma': 0.0001}\n",
      "0.470 (+/-0.027) for {'C': 5000.0, 'gamma': 0.001}\n",
      "0.399 (+/-0.001) for {'C': 5000.0, 'gamma': 0.01}\n",
      "0.399 (+/-0.001) for {'C': 5000.0, 'gamma': 0.1}\n",
      "0.399 (+/-0.001) for {'C': 5000.0, 'gamma': 1}\n",
      "0.399 (+/-0.001) for {'C': 5000.0, 'gamma': 10}\n",
      "0.399 (+/-0.001) for {'C': 5000.0, 'gamma': 100}\n",
      "0.562 (+/-0.016) for {'C': 10000.0, 'gamma': 0.0001}\n",
      "0.470 (+/-0.027) for {'C': 10000.0, 'gamma': 0.001}\n",
      "0.399 (+/-0.001) for {'C': 10000.0, 'gamma': 0.01}\n",
      "0.399 (+/-0.001) for {'C': 10000.0, 'gamma': 0.1}\n",
      "0.399 (+/-0.001) for {'C': 10000.0, 'gamma': 1}\n",
      "0.399 (+/-0.001) for {'C': 10000.0, 'gamma': 10}\n",
      "0.399 (+/-0.001) for {'C': 10000.0, 'gamma': 100}\n"
     ]
    }
   ],
   "source": [
    "# Train a SVM classification model\n",
    "print 'Fitting the classifier to the training set'\n",
    "t0 = time()\n",
    "param_grid = {'C': [1e-2, 1e-1, 1, 1e1, 1e2, 1e3, 5e3, 1e4],\n",
    "              'gamma': [0.0001, 0.001, 0.01, 0.1, 1, 10, 100]}\n",
    "\n",
    "clf = GridSearchCV(SVC(kernel='rbf', class_weight='balanced'), param_grid)\n",
    "clf = clf.fit(X_train_pca, y_train)\n",
    "\n",
    "# Display the detailed results of the grid search + cross-validation:\n",
    "print 'done in {:0.3f}s'.format(time() - t0)\n",
    "print 'Best parameters set found on development set:\\n'\n",
    "print clf.best_params_\n",
    "print '\\nGrid scores:\\n'\n",
    "means = clf.cv_results_['mean_test_score']\n",
    "stds = clf.cv_results_['std_test_score']\n",
    "for mean, std, params in zip(means, stds, clf.cv_results_['params']):\n",
    "    print '%0.3f (+/-%0.03f) for %r' % (mean, std * 2, params)"
   ]
  },
  {
   "cell_type": "markdown",
   "metadata": {},
   "source": [
    "**Run** the cell below to make predictions on the test data and use a classification report and a confusion matrix to summarize the classifier performance. \n",
    "\n",
    ">**Note:** We trained the classifier using the *projections* of the training set features onto the *eigenfaces* (the orthonormal basis of transformed coordinates), so we must also make predictions using the projections of the test set features onto eigenfaces."
   ]
  },
  {
   "cell_type": "code",
   "execution_count": 29,
   "metadata": {
    "collapsed": false
   },
   "outputs": [
    {
     "name": "stdout",
     "output_type": "stream",
     "text": [
      "Predicting the people names on the testing set\n",
      "done in 0.151s\n",
      "                   precision    recall  f1-score   support\n",
      "\n",
      "     Ariel Sharon       0.57      0.73      0.64        11\n",
      "     Colin Powell       0.59      0.83      0.69        47\n",
      "  Donald Rumsfeld       0.52      0.73      0.60        22\n",
      "    George W Bush       0.93      0.75      0.83       119\n",
      "Gerhard Schroeder       0.67      0.53      0.59        19\n",
      "      Hugo Chavez       0.64      0.54      0.58        13\n",
      "       Tony Blair       0.80      0.74      0.77        27\n",
      "\n",
      "      avg / total       0.77      0.73      0.74       258\n",
      "\n",
      "[[ 8  0  2  1  0  0  0]\n",
      " [ 3 39  1  2  0  0  2]\n",
      " [ 2  1 16  1  1  0  1]\n",
      " [ 1 15  9 89  2  1  2]\n",
      " [ 0  4  1  1 10  3  0]\n",
      " [ 0  2  1  1  2  7  0]\n",
      " [ 0  5  1  1  0  0 20]]\n"
     ]
    }
   ],
   "source": [
    "print 'Predicting the people names on the testing set'\n",
    "t0 = time()\n",
    "y_pred = clf.predict(X_test_pca)\n",
    "print 'done in {:0.3f}s'.format(time() - t0)\n",
    "\n",
    "print classification_report(y_test, y_pred, target_names=target_names)\n",
    "print confusion_matrix(y_test, y_pred, labels=range(n_classes))"
   ]
  },
  {
   "cell_type": "markdown",
   "metadata": {},
   "source": [
    "Now we can make a qualitative evaluation of the predictions using matplotlib. **Run** the cell below to define `plot_gallery()` and `title()` helper functions, and then visualize the first few faces from the test set, labeled with the predicted and actual classes. How did our optimal classifier do on these faces?"
   ]
  },
  {
   "cell_type": "code",
   "execution_count": 30,
   "metadata": {
    "collapsed": false
   },
   "outputs": [
    {
     "data": {
      "image/png": "[encoded data removed]",
      "text/plain": [
       "<matplotlib.figure.Figure at 0x1a25b13bd0>"
      ]
     },
     "metadata": {},
     "output_type": "display_data"
    }
   ],
   "source": [
    "def plot_gallery(images, titles, h, w, n_row=3, n_col=4):\n",
    "    \"\"\"Helper function to plot a gallery of portraits\"\"\"\n",
    "    plt.figure(figsize=(1.8 * n_col, 2.4 * n_row))\n",
    "    plt.subplots_adjust(bottom=0, left=.01, right=.99, top=.90, hspace=.35)\n",
    "    for i in range(n_row * n_col):\n",
    "        plt.subplot(n_row, n_col, i + 1)\n",
    "        plt.imshow(images[i].reshape((h, w)), cmap=plt.cm.gray)\n",
    "        plt.title(titles[i], size=12)\n",
    "        plt.xticks(())\n",
    "        plt.yticks(())\n",
    "\n",
    "# plot the result of the prediction on a portion of the test set\n",
    "def title(y_pred, y_test, target_names, i):\n",
    "    pred_name = target_names[y_pred[i]].rsplit(' ', 1)[-1]\n",
    "    true_name = target_names[y_test[i]].rsplit(' ', 1)[-1]\n",
    "    return 'predicted: %s\\ntrue:      %s' % (pred_name, true_name)\n",
    "\n",
    "prediction_titles = [title(y_pred, y_test, target_names, i)\n",
    "                     for i in range(y_pred.shape[0])]\n",
    "\n",
    "plot_gallery(X_test, prediction_titles, h, w)"
   ]
  },
  {
   "cell_type": "code",
   "execution_count": 31,
   "metadata": {
    "collapsed": false,
    "scrolled": false
   },
   "outputs": [
    {
     "data": {
      "image/png": "[encoded data removed]",
      "text/plain": [
       "<matplotlib.figure.Figure at 0x1a25b20290>"
      ]
     },
     "metadata": {},
     "output_type": "display_data"
    }
   ],
   "source": [
    "# plot the gallery of the most significative eigenfaces\n",
    "eigenface_titles = ['eigenface %d' % i for i in range(eigenfaces.shape[0])]\n",
    "plot_gallery(eigenfaces, eigenface_titles, h, w)"
   ]
  },
  {
   "cell_type": "markdown",
   "metadata": {},
   "source": [
    "The results are very interesting, and give us insight into how the images vary: for example, the first few eigenfaces seem to be associated with the angle of lighting on the face, and later principal vectors seem to be picking out certain features, such as eyes, noses, and lips. "
   ]
  },
  {
   "cell_type": "markdown",
   "metadata": {},
   "source": [
    "#### QUESTIONS"
   ]
  },
  {
   "cell_type": "markdown",
   "metadata": {},
   "source": [
    "**Q1:** Change n_components to the following values: [10, 15, 25, 50, 100, 250]. For each number of principal components, note the F1 score for Ariel Sharon. If you see a higher F1 score, does it mean the classifier is doing better, or worse?"
   ]
  },
  {
   "cell_type": "code",
   "execution_count": 25,
   "metadata": {
    "collapsed": false
   },
   "outputs": [
    {
     "name": "stdout",
     "output_type": "stream",
     "text": [
      "                   precision    recall  f1-score   support\n",
      "\n",
      "     Ariel Sharon       0.14      0.45      0.21        11\n",
      "     Colin Powell       0.49      0.36      0.41        47\n",
      "  Donald Rumsfeld       0.31      0.41      0.35        22\n",
      "    George W Bush       0.78      0.29      0.43       119\n",
      "Gerhard Schroeder       0.12      0.26      0.16        19\n",
      "      Hugo Chavez       0.14      0.46      0.21        13\n",
      "       Tony Blair       0.36      0.37      0.36        27\n",
      "\n",
      "      avg / total       0.53      0.34      0.37       258\n",
      "\n",
      "                   precision    recall  f1-score   support\n",
      "\n",
      "     Ariel Sharon       0.17      0.45      0.24        11\n",
      "     Colin Powell       0.59      0.51      0.55        47\n",
      "  Donald Rumsfeld       0.43      0.73      0.54        22\n",
      "    George W Bush       0.88      0.53      0.66       119\n",
      "Gerhard Schroeder       0.31      0.53      0.39        19\n",
      "      Hugo Chavez       0.43      0.46      0.44        13\n",
      "       Tony Blair       0.47      0.56      0.51        27\n",
      "\n",
      "      avg / total       0.65      0.54      0.56       258\n",
      "\n",
      "                   precision    recall  f1-score   support\n",
      "\n",
      "     Ariel Sharon       0.28      0.73      0.40        11\n",
      "     Colin Powell       0.82      0.79      0.80        47\n",
      "  Donald Rumsfeld       0.44      0.64      0.52        22\n",
      "    George W Bush       0.96      0.64      0.77       119\n",
      "Gerhard Schroeder       0.43      0.79      0.56        19\n",
      "      Hugo Chavez       0.64      0.54      0.58        13\n",
      "       Tony Blair       0.70      0.70      0.70        27\n",
      "\n",
      "      avg / total       0.78      0.68      0.71       258\n",
      "\n",
      "                   precision    recall  f1-score   support\n",
      "\n",
      "     Ariel Sharon       0.57      0.73      0.64        11\n",
      "     Colin Powell       0.79      0.87      0.83        47\n",
      "  Donald Rumsfeld       0.53      0.77      0.63        22\n",
      "    George W Bush       0.93      0.76      0.84       119\n",
      "Gerhard Schroeder       0.65      0.79      0.71        19\n",
      "      Hugo Chavez       0.67      0.62      0.64        13\n",
      "       Tony Blair       0.70      0.70      0.70        27\n",
      "\n",
      "      avg / total       0.80      0.77      0.78       258\n",
      "\n",
      "                   precision    recall  f1-score   support\n",
      "\n",
      "     Ariel Sharon       0.64      0.64      0.64        11\n",
      "     Colin Powell       0.79      0.94      0.85        47\n",
      "  Donald Rumsfeld       0.64      0.73      0.68        22\n",
      "    George W Bush       0.94      0.86      0.90       119\n",
      "Gerhard Schroeder       0.75      0.95      0.84        19\n",
      "      Hugo Chavez       0.88      0.54      0.67        13\n",
      "       Tony Blair       0.81      0.78      0.79        27\n",
      "\n",
      "      avg / total       0.84      0.83      0.83       258\n",
      "\n",
      "                   precision    recall  f1-score   support\n",
      "\n",
      "     Ariel Sharon       0.70      0.64      0.67        11\n",
      "     Colin Powell       0.72      0.89      0.80        47\n",
      "  Donald Rumsfeld       0.76      0.73      0.74        22\n",
      "    George W Bush       0.93      0.90      0.91       119\n",
      "Gerhard Schroeder       0.82      0.74      0.78        19\n",
      "      Hugo Chavez       0.80      0.62      0.70        13\n",
      "       Tony Blair       0.78      0.78      0.78        27\n",
      "\n",
      "      avg / total       0.84      0.83      0.83       258\n",
      "\n"
     ]
    }
   ],
   "source": [
    "from sklearn.metrics import f1_score\n",
    "N = [10, 15, 25, 50, 100, 250]\n",
    "for n in N:\n",
    "    pca = PCA(n_components=n, svd_solver='randomized', whiten=True).fit(X_train)\n",
    "    X_train_pca = pca.transform(X_train)\n",
    "    X_test_pca = pca.transform(X_test)\n",
    "    clf = SVC(kernel='rbf', class_weight='balanced', C=10.0, gamma=0.001)\n",
    "    clf.fit(X_train_pca, y_train)\n",
    "    y_pred = clf.predict(X_test_pca)\n",
    "    print classification_report(y_test, y_pred, target_names=target_names)"
   ]
  },
  {
   "cell_type": "markdown",
   "metadata": {},
   "source": [
    "**Q2:** Do you see any evidence of overfitting when using a large number of PCs? Does the dimensionality reduction of PCA seem to be helping your performance here?"
   ]
  },
  {
   "cell_type": "code",
   "execution_count": 26,
   "metadata": {
    "collapsed": false
   },
   "outputs": [
    {
     "name": "stdout",
     "output_type": "stream",
     "text": [
      "                   precision    recall  f1-score   support\n",
      "\n",
      "     Ariel Sharon       0.73      0.73      0.73        11\n",
      "     Colin Powell       0.75      0.91      0.83        47\n",
      "  Donald Rumsfeld       0.81      0.77      0.79        22\n",
      "    George W Bush       0.95      0.91      0.93       119\n",
      "Gerhard Schroeder       0.72      0.68      0.70        19\n",
      "      Hugo Chavez       0.78      0.54      0.64        13\n",
      "       Tony Blair       0.82      0.85      0.84        27\n",
      "\n",
      "      avg / total       0.85      0.85      0.85       258\n",
      "\n",
      "                   precision    recall  f1-score   support\n",
      "\n",
      "     Ariel Sharon       0.78      0.64      0.70        11\n",
      "     Colin Powell       0.69      0.91      0.79        47\n",
      "  Donald Rumsfeld       0.89      0.73      0.80        22\n",
      "    George W Bush       0.89      0.91      0.90       119\n",
      "Gerhard Schroeder       0.85      0.58      0.69        19\n",
      "      Hugo Chavez       0.80      0.62      0.70        13\n",
      "       Tony Blair       0.76      0.70      0.73        27\n",
      "\n",
      "      avg / total       0.83      0.82      0.82       258\n",
      "\n",
      "                   precision    recall  f1-score   support\n",
      "\n",
      "     Ariel Sharon       0.67      0.36      0.47        11\n",
      "     Colin Powell       0.44      0.96      0.60        47\n",
      "  Donald Rumsfeld       0.82      0.41      0.55        22\n",
      "    George W Bush       0.88      0.82      0.85       119\n",
      "Gerhard Schroeder       1.00      0.37      0.54        19\n",
      "      Hugo Chavez       1.00      0.38      0.56        13\n",
      "       Tony Blair       1.00      0.56      0.71        27\n",
      "\n",
      "      avg / total       0.81      0.71      0.71       258\n",
      "\n"
     ]
    }
   ],
   "source": [
    "N2 = [250, 400, 600]\n",
    "for n in N2:\n",
    "    pca = PCA(n_components=n, svd_solver='randomized', whiten=True).fit(X_train)\n",
    "    X_train_pca = pca.transform(X_train)\n",
    "    X_test_pca = pca.transform(X_test)\n",
    "    clf = SVC(kernel='rbf', class_weight='balanced', C=10.0, gamma=0.001)\n",
    "    clf.fit(X_train_pca, y_train)\n",
    "    y_pred = clf.predict(X_test_pca)\n",
    "    print classification_report(y_test, y_pred, target_names=target_names)"
   ]
  },
  {
   "cell_type": "code",
   "execution_count": null,
   "metadata": {
    "collapsed": true
   },
   "outputs": [],
   "source": []
  },
  {
   "cell_type": "code",
   "execution_count": null,
   "metadata": {
    "collapsed": true
   },
   "outputs": [],
   "source": []
  },
  {
   "cell_type": "code",
   "execution_count": null,
   "metadata": {
    "collapsed": true
   },
   "outputs": [],
   "source": []
  }
 ],
 "metadata": {
  "anaconda-cloud": {},
  "kernelspec": {
   "display_name": "Python 2",
   "language": "python",
   "name": "python2"
  },
  "language_info": {
   "codemirror_mode": {
    "name": "ipython",
    "version": 2
   },
   "file_extension": ".py",
   "mimetype": "text/x-python",
   "name": "python",
   "nbconvert_exporter": "python",
   "pygments_lexer": "ipython2",
   "version": "2.7.13"
  }
 },
 "nbformat": 4,
 "nbformat_minor": 2
}
