{
 "cells": [
  {
   "cell_type": "markdown",
   "metadata": {},
   "source": [
    "# (S1) Initialization\n"
   ]
  },
  {
   "cell_type": "markdown",
   "metadata": {},
   "source": [
    "### Load dependency files"
   ]
  },
  {
   "cell_type": "code",
   "execution_count": 2,
   "metadata": {},
   "outputs": [
    {
     "name": "stderr",
     "output_type": "stream",
     "text": [
      "/Users/thchang/anaconda2/lib/python2.7/site-packages/h5py/__init__.py:34: FutureWarning: Conversion of the second argument of issubdtype from `float` to `np.floating` is deprecated. In future, it will be treated as `np.float64 == np.dtype(float).type`.\n",
      "  from ._conv import register_converters as _register_converters\n"
     ]
    },
    {
     "name": "stdout",
     "output_type": "stream",
     "text": [
      "Tensorflow version=1.8.0-dev20180328\n",
      "Successfully loaded files. 2018-05-14 22:31:59\n"
     ]
    }
   ],
   "source": [
    "import tensorflow as tf\n",
    "import datetime\n",
    "import time\n",
    "import numpy as np\n",
    "import matplotlib.pyplot as plt\n",
    "%matplotlib inline\n",
    "\n",
    "print(\"Tensorflow version={}\".format(tf.__version__))\n",
    "print(\"Successfully loaded files. {}\".format(datetime.datetime.fromtimestamp(time.time()).strftime('%Y-%m-%d %H:%M:%S')))"
   ]
  },
  {
   "cell_type": "markdown",
   "metadata": {},
   "source": [
    "### References"
   ]
  },
  {
   "cell_type": "code",
   "execution_count": 64,
   "metadata": {
    "collapsed": true
   },
   "outputs": [],
   "source": [
    "# Mikolov paper on word2Vec: https://arxiv.org/pdf/1301.3781.pdf\n",
    "# Tensorflow embedding instruction: https://github.com/tensorflow/models/tree/master/tutorials/embedding\n",
    "# Refernce local code on calculate word2vec embedding: /Users/thchang/Documents/dev/git/tensorlfow/models/tutorials/embedding"
   ]
  },
  {
   "cell_type": "markdown",
   "metadata": {},
   "source": [
    "### Helper functions"
   ]
  },
  {
   "cell_type": "code",
   "execution_count": 2,
   "metadata": {},
   "outputs": [
    {
     "name": "stdout",
     "output_type": "stream",
     "text": [
      "Successfully defined helper functions. 2018-04-26 21:41:59\n"
     ]
    }
   ],
   "source": [
    "def getTime():\n",
    "    return datetime.datetime.fromtimestamp(time.time()).strftime('%Y-%m-%d %H:%M:%S')\n",
    "    \n",
    "def initVariables():\n",
    "    init = tf.global_variables_initializer()\n",
    "    init.run()\n",
    "\n",
    "# Used for tensorboard\n",
    "def variable_summaries(var):\n",
    "  \"\"\"Attach a lot of summaries to a Tensor (for TensorBoard visualization).\"\"\"\n",
    "  with tf.name_scope('summaries'):\n",
    "    mean = tf.reduce_mean(var)\n",
    "    tf.summary.scalar('mean', mean)\n",
    "    with tf.name_scope('stddev'):\n",
    "      stddev = tf.sqrt(tf.reduce_mean(tf.square(var - mean)))\n",
    "    tf.summary.scalar('stddev', stddev)\n",
    "    tf.summary.scalar('max', tf.reduce_max(var))\n",
    "    tf.summary.scalar('min', tf.reduce_min(var))\n",
    "    tf.summary.histogram('histogram', var)\n",
    "    \n",
    "print(\"Successfully defined helper functions. {}\".format(getTime()))"
   ]
  },
  {
   "cell_type": "markdown",
   "metadata": {},
   "source": [
    "### Nodes"
   ]
  },
  {
   "cell_type": "code",
   "execution_count": null,
   "metadata": {
    "collapsed": true
   },
   "outputs": [],
   "source": [
    "# cd /Users/thchang/Documents/dev/git/tensorlfow/models/tutorials/embedding\n",
    "# python word2vec_optimized.py --train_data=data/text8 --eval_data=data/questions-words.txt --save_path=/tmp/"
   ]
  },
  {
   "cell_type": "markdown",
   "metadata": {},
   "source": [
    "# (S2) Tensorflow Training Code"
   ]
  },
  {
   "cell_type": "markdown",
   "metadata": {},
   "source": [
    "### Plan"
   ]
  },
  {
   "cell_type": "code",
   "execution_count": 65,
   "metadata": {},
   "outputs": [
    {
     "data": {
      "text/plain": [
       "'\\n'"
      ]
     },
     "execution_count": 65,
     "metadata": {},
     "output_type": "execute_result"
    }
   ],
   "source": [
    "\"\"\"\n",
    "(1) cd /Users/thchang/Documents/dev/git/tensorlfow/models/tutorials/embedding\n",
    "(2) To execute: (per instruction in  https://github.com/tensorflow/models/tree/master/tutorials/embedding)\n",
    "    python word2vec_optimized.py --train_data=text8 --eval_data=questions-words.txt --save_path=/tmp/\n",
    "\n",
    "Action Items\n",
    "    - Update text8 with my queryAsect test fie\n",
    "    - Create my own question-words.txt\n",
    "        Similar queries are queries that share N aspects\n",
    "        Calculate cosine simlarity of similar items, and make sure it's less than \n",
    "    - How to feed multi-term queries to predict n aspects ...\n",
    "        \n",
    "    \n",
    "Done\n",
    "    - Look at how eval data is used in the code: PyCharm: word2vec_optimized.py\n",
    "        eval data is used for evaluation for the test data\n",
    "\"\"\""
   ]
  },
  {
   "cell_type": "markdown",
   "metadata": {},
   "source": [
    "# (S3) Tensorflow Review/Appendix"
   ]
  },
  {
   "cell_type": "markdown",
   "metadata": {},
   "source": [
    "### (A) Tensor Flow Program Structure\n",
    "Cumbersome, but this give TF the ability for parallel execution across multiple platforms"
   ]
  },
  {
   "cell_type": "markdown",
   "metadata": {},
   "source": [
    "#### -  Defintion of Computation Graph"
   ]
  },
  {
   "cell_type": "markdown",
   "metadata": {},
   "source": [
    "* Nodes = [ Tensor :{constants, variables, placeholders}, Operations:{} ]\n",
    "* Edge = Tensor that results from the operations"
   ]
  },
  {
   "cell_type": "markdown",
   "metadata": {},
   "source": [
    "#### - Execution\n",
    "* Session objects encapsulte the environment tensor and operations objects are evaluated.\n"
   ]
  },
  {
   "cell_type": "markdown",
   "metadata": {},
   "source": [
    "### (A.1) Tensor: N dimensional Matrix\n"
   ]
  },
  {
   "cell_type": "markdown",
   "metadata": {},
   "source": [
    "#### - Tensor: Constants: \n",
    "* Value cannot be changed\n",
    "* Stored as part of the computation graph, and is memory expensive."
   ]
  },
  {
   "cell_type": "code",
   "execution_count": 9,
   "metadata": {
    "collapsed": true
   },
   "outputs": [],
   "source": [
    "# Constant - 0 dimension\n",
    "tensorConstant1D = tf.constant(0.1)\n",
    "\n",
    "# Vector\n",
    "tensorVector = tf.constant(0.1, shape=[100])\n",
    "\n",
    "# 2 dimensional matrix\n",
    "tensor2DMatrixZero = tf.zeros([784, 10], tf.int32)\n",
    "tensor2DMatrixNormal = tf.truncated_normal([784, 10], stddev=0.1)\n",
    "\n",
    "# Tensorflow types: tf.float32, tf.float64, tf.int8, tf.uint8, tf.string, tf.bool, tf.complex64, tf.qint32"
   ]
  },
  {
   "cell_type": "markdown",
   "metadata": {},
   "source": [
    "#### - Tensor: Variables\n",
    "* Variable are required when values requires updating WITHIN a session. \n",
    "* Needs to be initalized before use.\n",
    "* Contants are stored in the computation graph definition, ie very memory expansive. In comparision, variables are stored separately, and exist on the parameter server\n",
    "* Example: weights and biases of neural network"
   ]
  },
  {
   "cell_type": "code",
   "execution_count": 5,
   "metadata": {
    "collapsed": true
   },
   "outputs": [],
   "source": [
    "# Use case 1: Simple\n",
    "varX = tf.Variable(3, name='x')\n",
    "varY = tf.Variable(4, name='y')\n",
    "\n",
    "# Use case 2: Neural network\n",
    "varW = tf.Variable(tf.zeros([784, 10])) #initial weights of our neural network\n",
    "varB = tf.Variable(tf.zeros([10])) # Bias of our neural network\n",
    "\n",
    "# Use case 3: More complicated initilizations\n",
    "image_size=540\n",
    "hidden_size = 10\n",
    "varWInput = tf.Variable(tf.truncated_normal([image_size*image_size, hidden_size], stddev=0.1))\n",
    "varBInput = tf.Variable(tf.constant(0.1, shape=[hidden_size]))\n",
    "varWInput2 = tf.Variable(tf.random_uniform([50,50], minval=0, maxval=10, seed=0))"
   ]
  },
  {
   "cell_type": "markdown",
   "metadata": {},
   "source": [
    "#### - Tensor: PlaceHolders: \n",
    "* Objects whose value that are fed INTO the computation graph, at each training batch\n",
    "* PH are used to feed data into the graph via sess.run().\n",
    "* Example: input vectors and labels of our neural network"
   ]
  },
  {
   "cell_type": "code",
   "execution_count": 6,
   "metadata": {
    "collapsed": true
   },
   "outputs": [],
   "source": [
    "# Use case 1: Simple\n",
    "phX = tf.placeholder(tf.int64, name = 'x')\n",
    "\n",
    "# Use case 2: Neural network\n",
    "phInputVectorX = tf.placeholder(tf.float32, shape=[None, 784]) #input to our neural network model\n",
    "phLabelY = tf.placeholder(tf.float32, shape=[None, 10])"
   ]
  },
  {
   "cell_type": "code",
   "execution_count": 27,
   "metadata": {},
   "outputs": [
    {
     "name": "stdout",
     "output_type": "stream",
     "text": [
      "x_result:\n",
      "[[0.9714329 7.329994  6.544899  4.8730717 1.3280773]\n",
      " [6.366893  1.7521656 9.374327  1.175015  3.7473881]\n",
      " [6.345556  3.9288676 9.876809  8.137418  4.8428845]\n",
      " [5.817404  5.1352034 2.5477123 0.471375  6.135892 ]]\n",
      "y_result:\n",
      "[[ 1.9428658 14.659988  13.089798   9.746143   2.6561546]\n",
      " [12.733786   3.504331  18.748653   2.35003    7.4947762]\n",
      " [12.691112   7.857735  19.753618  16.274836   9.685769 ]\n",
      " [11.634808  10.270407   5.0954247  0.94275   12.271784 ]]\n"
     ]
    }
   ],
   "source": [
    "# Use case 2:\n",
    "xPh = tf.placeholder(tf.float32)\n",
    "yOperation = 2 * xPh\n",
    "dataVar = tf.random_uniform([4,5], maxval=10, dtype=tf.float32)\n",
    "with tf.Session() as sess:\n",
    "    x_result = sess.run(dataVar)\n",
    "    print(\"x_result:\\n{}\".format(x_result))\n",
    "    \n",
    "    y_result = sess.run(yOperation, feed_dict = {xPh: x_result})\n",
    "    print(\"y_result:\\n{}\".format(y_result))"
   ]
  },
  {
   "cell_type": "markdown",
   "metadata": {},
   "source": [
    "### (A.2) Operation"
   ]
  },
  {
   "cell_type": "code",
   "execution_count": 7,
   "metadata": {
    "collapsed": true
   },
   "outputs": [],
   "source": [
    "# Use case 1: Simple- element wise operatrions\n",
    "fOperation = varX*varX*varY + varY + 2\n",
    "\n",
    "# Use case 2: Neural network - matrix operations: tf.matmul, \n",
    "fOperationNN = tf.matmul(phInputVectorX, varW) + varB"
   ]
  },
  {
   "cell_type": "markdown",
   "metadata": {},
   "source": [
    "### (A.3) Session: Needed to evaluate a graph"
   ]
  },
  {
   "cell_type": "code",
   "execution_count": 8,
   "metadata": {},
   "outputs": [
    {
     "ename": "NameError",
     "evalue": "name 'showMNISTFlowTensorBoard' is not defined",
     "output_type": "error",
     "traceback": [
      "\u001b[0;31m----------------------------------------------------------\u001b[0m",
      "\u001b[0;31mNameError\u001b[0m                Traceback (most recent call last)",
      "\u001b[0;32m<ipython-input-8-108af4ff29ad>\u001b[0m in \u001b[0;36m<module>\u001b[0;34m()\u001b[0m\n\u001b[1;32m     96\u001b[0m \u001b[0;31m#showPlaceHolderFlow()\u001b[0m\u001b[0;34m\u001b[0m\u001b[0;34m\u001b[0m\u001b[0m\n\u001b[1;32m     97\u001b[0m \u001b[0;31m#showMNISTFlow()\u001b[0m\u001b[0;34m\u001b[0m\u001b[0;34m\u001b[0m\u001b[0m\n\u001b[0;32m---> 98\u001b[0;31m \u001b[0mshowMNISTFlowTensorBoard\u001b[0m\u001b[0;34m(\u001b[0m\u001b[0;34m)\u001b[0m\u001b[0;34m\u001b[0m\u001b[0m\n\u001b[0m",
      "\u001b[0;31mNameError\u001b[0m: name 'showMNISTFlowTensorBoard' is not defined"
     ]
    }
   ],
   "source": [
    "def showVariableFlow():\n",
    "    with tf.Session() as sess: # Automatically closes the session\n",
    "        # Define and initialize variables\n",
    "        varX = tf.Variable(3, name='x')\n",
    "        varY = tf.Variable(4, name='y')\n",
    "        initVariables()\n",
    "\n",
    "        # Define operation. Var + Operation = computation graph\n",
    "        fOperation = varX*varX*varY + varY + 2\n",
    "\n",
    "        # Uses the session in this scope to execute the graph\n",
    "        resultOfOperation = fOperation.eval()\n",
    "        \n",
    "        print(\"showVariableFlow(): resultOfOperation={}\".format(resultOfOperation))\n",
    "    \n",
    "def showPlaceHolderFlow():\n",
    "    with tf.Session() as sess:\n",
    "        phX = tf.placeholder(tf.int64, name = 'x')\n",
    "        fOperation = phX + 5        \n",
    "        resultOfOperation = fOperation.eval(feed_dict={phX: [[1, 2, 3]]})\n",
    "        print(\"showPlaceHolderFlow(): resultOfOperation={}\".format(resultOfOperation))\n",
    "        \n",
    "def showMNISTFlow():\n",
    "    from tensorflow.examples.tutorials.mnist import input_data\n",
    "\n",
    "    def train_network(training_data, labels, output, keep_prob=tf.placeholder(tf.float32)):\n",
    "        learning_rate = 1e-4\n",
    "        steps_number = 1000\n",
    "        batch_size = 100\n",
    "\n",
    "        # Read data\n",
    "        mnist = input_data.read_data_sets(\"MNIST_data/\", one_hot=True)\n",
    "\n",
    "        # Define the loss function\n",
    "        loss = tf.reduce_mean(tf.nn.softmax_cross_entropy_with_logits(labels=labels, logits=output))\n",
    "\n",
    "        # Define optimizers: \n",
    "        # Adam = Adaptive learning rate using first and second moments of gradients...\n",
    "        train_step = tf.train.AdamOptimizer(learning_rate).minimize(loss)\n",
    "\n",
    "        # Accuracy calculation\n",
    "        correct_prediction = tf.equal(tf.argmax(output, 1), tf.argmax(labels, 1))\n",
    "        accuracy = tf.reduce_mean(tf.cast(correct_prediction, tf.float32)) #Computes the mean of elements across dimensions of a tensor\n",
    "\n",
    "        # Run the training\n",
    "        sess = tf.InteractiveSession()\n",
    "        sess.run(tf.global_variables_initializer())\n",
    "\n",
    "        for i in range(steps_number):\n",
    "            # Get the next batch\n",
    "            input_batch, labels_batch = mnist.train.next_batch(batch_size)\n",
    "\n",
    "            # Print the accuracy progress on the batch every 100 steps\n",
    "            if i%100 == 0:\n",
    "                train_accuracy = accuracy.eval(feed_dict={training_data: input_batch, labels: labels_batch, keep_prob: 1.0})\n",
    "                print(\"Step %d, training batch accuracy %g %%\"%(i, train_accuracy*100))\n",
    "\n",
    "            # Run the training step\n",
    "            train_step.run(feed_dict={training_data: input_batch, labels: labels_batch, keep_prob: 0.5})\n",
    "            \n",
    "            \n",
    "        print(\"The end of training!\")\n",
    "\n",
    "        # Evaluate on the test set\n",
    "        test_accuracy = accuracy.eval(feed_dict={training_data: mnist.test.images, labels: mnist.test.labels, keep_prob: 1.0})\n",
    "        print(\"Test accuracy: %g %%\"%(test_accuracy*100))\n",
    "        \n",
    "    image_size = 28\n",
    "    labels_size = 10\n",
    "    hidden_size = 1024\n",
    "\n",
    "    # Define placeholders, used for input into simulation.\n",
    "    # Placeholders are assiged values via feed_dict, like this: train_step.run(feed_dict={x: batch[0], y_: batch[1]})\n",
    "    training_data = tf.placeholder(tf.float32, [None, image_size*image_size])\n",
    "    labels = tf.placeholder(tf.float32, [None, labels_size])\n",
    "\n",
    "    # Variables for the hidden layer\n",
    "    W_input = tf.Variable(tf.truncated_normal([image_size*image_size, hidden_size], stddev=0.1))\n",
    "    b_input = tf.Variable(tf.constant(0.1, shape=[hidden_size]))\n",
    "    \n",
    "    # Hidden layer with reLU activation function\n",
    "    y_input = tf.nn.relu(tf.matmul(training_data, W_input) + b_input)\n",
    "\n",
    "    # Variables for the output layer\n",
    "    W = tf.Variable(tf.truncated_normal([hidden_size, labels_size], stddev=0.1))\n",
    "    b = tf.Variable(tf.constant(0.1, shape=[labels_size]))\n",
    "    \n",
    "    # Connect hidden to the output layer\n",
    "    output = tf.matmul(y_input, W) + b\n",
    "    \n",
    "    # Train & test the network\n",
    "    train_network(training_data, labels, output)\n",
    "    \n",
    "\n",
    "#showVariableFlow()\n",
    "#showPlaceHolderFlow()\n",
    "showMNISTFlow()\n",
    "#showMNISTFlowTensorBoard()"
   ]
  },
  {
   "cell_type": "markdown",
   "metadata": {
    "collapsed": true
   },
   "source": [
    "### (B) Tensor Board\n"
   ]
  },
  {
   "cell_type": "code",
   "execution_count": 48,
   "metadata": {},
   "outputs": [
    {
     "name": "stdout",
     "output_type": "stream",
     "text": [
      "Extracting /tmp/tensorflow/mnist/logs/mnist_with_summaries/train-images-idx3-ubyte.gz\n",
      "Extracting /tmp/tensorflow/mnist/logs/mnist_with_summaries/train-labels-idx1-ubyte.gz\n",
      "Extracting /tmp/tensorflow/mnist/logs/mnist_with_summaries/t10k-images-idx3-ubyte.gz\n",
      "Extracting /tmp/tensorflow/mnist/logs/mnist_with_summaries/t10k-labels-idx1-ubyte.gz\n"
     ]
    },
    {
     "ename": "SystemExit",
     "evalue": "",
     "output_type": "error",
     "traceback": [
      "An exception has occurred, use %tb to see the full traceback.\n",
      "\u001b[0;31mSystemExit\u001b[0m\n"
     ]
    }
   ],
   "source": [
    "from __future__ import absolute_import\n",
    "from __future__ import division\n",
    "from __future__ import print_function\n",
    "\n",
    "import argparse\n",
    "import os\n",
    "import sys\n",
    "\n",
    "import tensorflow as tf\n",
    "\n",
    "from tensorflow.examples.tutorials.mnist import input_data\n",
    "\n",
    "logDir = \"/Users/thchang/TensorBoard/logs\"\n",
    "max_steps=500\n",
    "fake_data=False\n",
    "dropout=0.9\n",
    "\n",
    "def train():\n",
    "    \n",
    "  # Import data\n",
    "  mnist = input_data.read_data_sets(\"/tmp/tensorflow/mnist/logs/mnist_with_summaries\", fake_data=False)\n",
    "\n",
    "  sess = tf.InteractiveSession()\n",
    "  # Create a multilayer model.\n",
    "\n",
    "  # Input placeholders\n",
    "  with tf.name_scope('input'):\n",
    "    x = tf.placeholder(tf.float32, [None, 784], name='x-input')\n",
    "    y_ = tf.placeholder(tf.int64, [None], name='y-input')\n",
    "\n",
    "  with tf.name_scope('input_reshape'):\n",
    "    image_shaped_input = tf.reshape(x, [-1, 28, 28, 1])\n",
    "    tf.summary.image('input', image_shaped_input, 10)\n",
    "\n",
    "  # We can't initialize these variables to 0 - the network will get stuck.\n",
    "  def weight_variable(shape):\n",
    "    \"\"\"Create a weight variable with appropriate initialization.\"\"\"\n",
    "    initial = tf.truncated_normal(shape, stddev=0.1)\n",
    "    return tf.Variable(initial)\n",
    "\n",
    "  def bias_variable(shape):\n",
    "    \"\"\"Create a bias variable with appropriate initialization.\"\"\"\n",
    "    initial = tf.constant(0.1, shape=shape)\n",
    "    return tf.Variable(initial)\n",
    "\n",
    "  def variable_summaries(var):\n",
    "    \"\"\"Attach a lot of summaries to a Tensor (for TensorBoard visualization).\"\"\"\n",
    "    with tf.name_scope('summaries'):\n",
    "      mean = tf.reduce_mean(var)\n",
    "      tf.summary.scalar('mean', mean)\n",
    "      with tf.name_scope('stddev'):\n",
    "        stddev = tf.sqrt(tf.reduce_mean(tf.square(var - mean)))\n",
    "      tf.summary.scalar('stddev', stddev)\n",
    "      tf.summary.scalar('max', tf.reduce_max(var))\n",
    "      tf.summary.scalar('min', tf.reduce_min(var))\n",
    "      tf.summary.histogram('histogram', var)\n",
    "\n",
    "  def nn_layer(input_tensor, input_dim, output_dim, layer_name, act=tf.nn.relu):\n",
    "    \"\"\"Reusable code for making a simple neural net layer.\n",
    "    It does a matrix multiply, bias add, and then uses ReLU to nonlinearize.\n",
    "    It also sets up name scoping so that the resultant graph is easy to read,\n",
    "    and adds a number of summary ops.\n",
    "    \"\"\"\n",
    "    # Adding a name scope ensures logical grouping of the layers in the graph.\n",
    "    with tf.name_scope(layer_name):\n",
    "      # This Variable will hold the state of the weights for the layer\n",
    "      with tf.name_scope('weights'):\n",
    "        weights = weight_variable([input_dim, output_dim])\n",
    "        variable_summaries(weights)\n",
    "      with tf.name_scope('biases'):\n",
    "        biases = bias_variable([output_dim])\n",
    "        variable_summaries(biases)\n",
    "      with tf.name_scope('Wx_plus_b'):\n",
    "        preactivate = tf.matmul(input_tensor, weights) + biases\n",
    "        tf.summary.histogram('pre_activations', preactivate)\n",
    "      activations = act(preactivate, name='activation')\n",
    "      tf.summary.histogram('activations', activations)\n",
    "      return activations\n",
    "\n",
    "  hidden1 = nn_layer(x, 784, 500, 'layer1')\n",
    "\n",
    "  with tf.name_scope('dropout'):\n",
    "    keep_prob = tf.placeholder(tf.float32)\n",
    "    tf.summary.scalar('dropout_keep_probability', keep_prob)\n",
    "    dropped = tf.nn.dropout(hidden1, keep_prob)\n",
    "\n",
    "  # Do not apply softmax activation yet, see below.\n",
    "  y = nn_layer(dropped, 500, 10, 'layer2', act=tf.identity)\n",
    "\n",
    "  with tf.name_scope('cross_entropy'):\n",
    "    # The raw formulation of cross-entropy,\n",
    "    #\n",
    "    # tf.reduce_mean(-tf.reduce_sum(y_ * tf.log(tf.softmax(y)),\n",
    "    #                               reduction_indices=[1]))\n",
    "    #\n",
    "    # can be numerically unstable.\n",
    "    #\n",
    "    # So here we use tf.losses.sparse_softmax_cross_entropy on the\n",
    "    # raw logit outputs of the nn_layer above, and then average across\n",
    "    # the batch.\n",
    "    with tf.name_scope('total'):\n",
    "      cross_entropy = tf.losses.sparse_softmax_cross_entropy(\n",
    "          labels=y_, logits=y)\n",
    "  tf.summary.scalar('cross_entropy', cross_entropy)\n",
    "\n",
    "  with tf.name_scope('train'):\n",
    "    train_step = tf.train.AdamOptimizer(0.001).minimize(\n",
    "        cross_entropy)\n",
    "\n",
    "  with tf.name_scope('accuracy'):\n",
    "    with tf.name_scope('correct_prediction'):\n",
    "      correct_parediction = tf.equal(tf.argmax(y, 1), y_)\n",
    "    with tf.name_scope('accuracy'):\n",
    "      accuracy = tf.reduce_mean(tf.cast(correct_prediction, tf.float32))\n",
    "  tf.summary.scalar('accuracy', accuracy)\n",
    "\n",
    "  # Merge all the summaries and write them out to\n",
    "  # /tmp/tensorflow/mnist/logs/mnist_with_summaries (by default)\n",
    "  merged = tf.summary.merge_all()\n",
    "  train_writer = tf.summary.FileWriter(logDir + '/train', sess.graph)\n",
    "  test_writer = tf.summary.FileWriter(logDir + '/test')\n",
    "  tf.global_variables_initializer().run()\n",
    "\n",
    "  # Train the model, and also write summaries.\n",
    "  # Every 10th step, measure test-set accuracy, and write test summaries\n",
    "  # All other steps, run train_step on training data, & add training summaries\n",
    "\n",
    "  def feed_dict(train):\n",
    "    \"\"\"Make a TensorFlow feed_dict: maps data onto Tensor placeholders.\"\"\"\n",
    "    \"\"\"\n",
    "    if train or fake_data:\n",
    "      xs, ys = mnist.train.next_batch(100, fake_data=fake_data)\n",
    "      k = dropout\n",
    "    else:\n",
    "      xs, ys = mnist.test.images, mnist.test.labels\n",
    "      k = 1.0\n",
    "    \"\"\"\n",
    "  xs, ys = mnist.train.next_batch(100, fake_data=fake_data) \n",
    "  k = dropout\n",
    "  return {x: xs, y_: ys, keep_prob: k}\n",
    "\n",
    "  for i in range(max_steps):\n",
    "    if i % 10 == 0:  # Record summaries and test-set accuracy\n",
    "      summary, acc = sess.run([merged, accuracy], feed_dict=feed_dict(False))\n",
    "      test_writer.add_summary(summary, i)\n",
    "      print('Accuracy at step %s: %s' % (i, acc))\n",
    "    else:  # Record train set summaries, and train\n",
    "      if i % 100 == 99:  # Record execution stats\n",
    "        run_options = tf.RunOptions(trace_level=tf.RunOptions.FULL_TRACE)\n",
    "        run_metadata = tf.RunMetadata()\n",
    "        summary, _ = sess.run([merged, train_step],\n",
    "                              feed_dict=feed_dict(True),\n",
    "                              options=run_options,\n",
    "                              run_metadata=run_metadata)\n",
    "        train_writer.add_run_metadata(run_metadata, 'step%03d' % i)\n",
    "        train_writer.add_summary(summary, i)\n",
    "        print('Adding run metadata for', i)\n",
    "      else:  # Record a summary\n",
    "        summary, _ = sess.run([merged, train_step], feed_dict=feed_dict(True))\n",
    "        train_writer.add_summary(summary, i)\n",
    "  train_writer.close()\n",
    "  test_writer.close()\n",
    "\n",
    "def main(_):\n",
    "  #if tf.gfile.Exists(logDir):\n",
    "  #  tf.gfile.DeleteRecursively(FLAGS.logDir)\n",
    "  #tf.gfile.MakeDirs(logDir)\n",
    "  train()\n",
    "    \n",
    "if __name__ == '__main__':\n",
    "     tf.app.run(main=main,  argv=[sys.argv[0]])\n"
   ]
  },
  {
   "cell_type": "markdown",
   "metadata": {
    "collapsed": true
   },
   "source": []
  },
  {
   "cell_type": "code",
   "execution_count": 20,
   "metadata": {
    "collapsed": true
   },
   "outputs": [],
   "source": []
  },
  {
   "cell_type": "code",
   "execution_count": null,
   "metadata": {
    "collapsed": true
   },
   "outputs": [],
   "source": []
  }
 ],
 "metadata": {
  "kernelspec": {
   "display_name": "Python 2",
   "language": "python",
   "name": "python2"
  },
  "language_info": {
   "codemirror_mode": {
    "name": "ipython",
    "version": 2
   },
   "file_extension": ".py",
   "mimetype": "text/x-python",
   "name": "python",
   "nbconvert_exporter": "python",
   "pygments_lexer": "ipython2",
   "version": "2.7.14"
  }
 },
 "nbformat": 4,
 "nbformat_minor": 2
}
